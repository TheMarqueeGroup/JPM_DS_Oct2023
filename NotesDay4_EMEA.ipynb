{
 "cells": [
  {
   "cell_type": "markdown",
   "id": "e135e063-369b-4635-bab6-2b671c5e6f1f",
   "metadata": {},
   "source": [
    "# Day 4 - Data Science Essentials Program\n",
    "\n",
    "**Agenda**\n",
    "- Model selection and cross validation\n",
    "- Different types of train/test splitting\n",
    "\n",
    "**Before we get started**\n",
    "- Open the `ModelSelection.ipynb` file\n",
    "- Slides page 84\n",
    "- import packages and the car data set (can copy codes from ModelSelection file)\n"
   ]
  },
  {
   "cell_type": "code",
   "execution_count": 4,
   "id": "2658a301-304e-427e-9566-6a442fa82d6b",
   "metadata": {},
   "outputs": [],
   "source": [
    "import numpy as np\n",
    "import pandas as pd\n",
    "import matplotlib.pyplot as plt\n",
    "import seaborn as sns\n",
    "from sklearn import tree\n",
    "from sklearn.metrics import classification_report\n",
    "from sklearn.metrics import roc_curve, auc\n",
    "from sklearn.model_selection import train_test_split\n",
    "\n",
    "#New package\n",
    "from sklearn.model_selection import cross_val_score\n",
    "from sklearn.model_selection import (KFold, StratifiedKFold, GroupKFold)"
   ]
  },
  {
   "cell_type": "code",
   "execution_count": 5,
   "id": "0b55c3da-6130-47b4-87fd-59f16cb0f714",
   "metadata": {},
   "outputs": [],
   "source": [
    "df = pd.read_csv(\"ExData\\car_data.csv\", index_col=['User ID'])\n",
    "df = pd.concat([df, pd.get_dummies(df['Gender'])], axis=1)"
   ]
  },
  {
   "cell_type": "code",
   "execution_count": 6,
   "id": "007ac5b4-0ec3-419b-94aa-28c007435240",
   "metadata": {},
   "outputs": [
    {
     "data": {
      "text/plain": [
       "Purchased\n",
       "0    598\n",
       "1    402\n",
       "Name: count, dtype: int64"
      ]
     },
     "execution_count": 6,
     "metadata": {},
     "output_type": "execute_result"
    }
   ],
   "source": [
    "df['Purchased'].value_counts()"
   ]
  },
  {
   "cell_type": "markdown",
   "id": "aa19dbc2-fbd0-4dd6-b505-6aad6169b7b5",
   "metadata": {},
   "source": [
    "## Cross Validation Scores\n",
    "- `cross_val_score(model, X, y, cv=numbers of tests, scoring=metric)`\n",
    "    - classification models - by default uses \"accuracy\" metric (but you can change to recall, precision, etc.)\n",
    "    - linear regression - r^2\n",
    "    - https://scikit-learn.org/stable/modules/model_evaluation.html"
   ]
  },
  {
   "cell_type": "code",
   "execution_count": 12,
   "id": "cfc66111-7c01-4f3c-b1e2-7f6dd2db4ff0",
   "metadata": {},
   "outputs": [
    {
     "data": {
      "text/plain": [
       "(array([0.845, 0.855, 0.89 , 0.855, 0.845]),\n",
       " 0.858,\n",
       " 0.016613247725836167,\n",
       " 0.845)"
      ]
     },
     "execution_count": 12,
     "metadata": {},
     "output_type": "execute_result"
    }
   ],
   "source": [
    "clf = tree.DecisionTreeClassifier(random_state=42)\n",
    "X = df[['AnnualSalary','Age']]\n",
    "y = df['Purchased']\n",
    "scores = cross_val_score(clf, X, y, cv=5) #default is cv=5, 5 diff tests\n",
    "        #5 different accuracy scores for the 5 tests\n",
    "scores, scores.mean(), scores.std(), scores.min()"
   ]
  },
  {
   "cell_type": "code",
   "execution_count": 8,
   "id": "95b8521d-576a-486c-9de1-cca825d154f2",
   "metadata": {},
   "outputs": [
    {
     "data": {
      "text/plain": [
       "array([0.875     , 0.8125    , 0.8625    , 0.80246914, 0.77777778])"
      ]
     },
     "execution_count": 8,
     "metadata": {},
     "output_type": "execute_result"
    }
   ],
   "source": [
    "scores = cross_val_score(clf, X, y, cv=5, scoring='recall')\n",
    "scores"
   ]
  },
  {
   "cell_type": "code",
   "execution_count": 13,
   "id": "7514bb38-7910-41f2-8521-a51b821333f1",
   "metadata": {},
   "outputs": [
    {
     "data": {
      "text/plain": [
       "(array([0.805, 0.825, 0.85 , 0.8  , 0.82 ]),\n",
       " 0.8200000000000001,\n",
       " 0.01760681686165898,\n",
       " 0.8)"
      ]
     },
     "execution_count": 13,
     "metadata": {},
     "output_type": "execute_result"
    }
   ],
   "source": [
    "clf = tree.DecisionTreeClassifier(random_state=42)\n",
    "X2 = df[['Age']]\n",
    "y = df['Purchased']\n",
    "scores = cross_val_score(clf, X2, y, cv=5) #default is cv=5, 5 diff tests\n",
    "        #5 different accuracy scores for the 5 tests\n",
    "scores, scores.mean(), scores.std(), scores.min()"
   ]
  },
  {
   "cell_type": "markdown",
   "id": "dcef19de-2457-4742-ab61-25955e29a1d7",
   "metadata": {},
   "source": [
    "## Train/Test Split the Data\n",
    "- before running the cross validation score, split your data first into train/test\n",
    "- run cross_val on JUST the TRAIN data for diff permutations of X variables (e.g. Age on its own, Age w Salary, etc.)\n",
    "- pick the best model based off the cross_val score, then re-train with **ALL** the **TRAIN** data\n",
    "- one final test on the TEST data"
   ]
  },
  {
   "cell_type": "code",
   "execution_count": 14,
   "id": "187a9226-8202-4b45-a9f1-8dba7e1ab178",
   "metadata": {},
   "outputs": [],
   "source": [
    "allXs = ['Age','AnnualSalary','Female']\n",
    "X_train, X_test, y_train, y_test = train_test_split(df[allXs], df['Purchased'], test_size=0.2, random_state=0)"
   ]
  },
  {
   "cell_type": "code",
   "execution_count": 29,
   "id": "74087e8c-bd95-4b56-a749-baea8b496a1c",
   "metadata": {},
   "outputs": [],
   "source": [
    "#X_train[['Age','AnnualSalary','Female']]"
   ]
  },
  {
   "cell_type": "code",
   "execution_count": 20,
   "id": "39800c46-480a-4884-9b9e-f2c584466426",
   "metadata": {},
   "outputs": [
    {
     "data": {
      "text/plain": [
       "array([0.80625, 0.91875, 0.88125, 0.85625, 0.85   ])"
      ]
     },
     "execution_count": 20,
     "metadata": {},
     "output_type": "execute_result"
    }
   ],
   "source": [
    "cross_val_score(clf, X_train, y_train, cv=5) #all 3 X's"
   ]
  },
  {
   "cell_type": "code",
   "execution_count": 21,
   "id": "716a6989-d2a3-41a2-9ef1-377417e626ea",
   "metadata": {},
   "outputs": [
    {
     "data": {
      "text/plain": [
       "array([0.8    , 0.85   , 0.76875, 0.83125, 0.8375 ])"
      ]
     },
     "execution_count": 21,
     "metadata": {},
     "output_type": "execute_result"
    }
   ],
   "source": [
    "cross_val_score(clf, X_train[['Age']], y_train, cv=5) #all 3 X's"
   ]
  },
  {
   "cell_type": "code",
   "execution_count": 30,
   "id": "463ed3d0-e9e4-4945-9dac-350c7ed1c598",
   "metadata": {},
   "outputs": [
    {
     "data": {
      "text/plain": [
       "array([0.80625, 0.90625, 0.85625, 0.85   , 0.84375])"
      ]
     },
     "execution_count": 30,
     "metadata": {},
     "output_type": "execute_result"
    }
   ],
   "source": [
    "cross_val_score(clf, X_train[['Age','AnnualSalary']], y_train, cv=5) #all 3 X's"
   ]
  },
  {
   "cell_type": "code",
   "execution_count": null,
   "id": "efd5444c-8142-4bc4-b76a-df8caa53fe98",
   "metadata": {},
   "outputs": [],
   "source": []
  },
  {
   "cell_type": "code",
   "execution_count": 24,
   "id": "ee40daec-8d3f-4394-9d83-485ca243c4b1",
   "metadata": {},
   "outputs": [
    {
     "data": {
      "text/html": [
       "<style>#sk-container-id-1 {color: black;}#sk-container-id-1 pre{padding: 0;}#sk-container-id-1 div.sk-toggleable {background-color: white;}#sk-container-id-1 label.sk-toggleable__label {cursor: pointer;display: block;width: 100%;margin-bottom: 0;padding: 0.3em;box-sizing: border-box;text-align: center;}#sk-container-id-1 label.sk-toggleable__label-arrow:before {content: \"▸\";float: left;margin-right: 0.25em;color: #696969;}#sk-container-id-1 label.sk-toggleable__label-arrow:hover:before {color: black;}#sk-container-id-1 div.sk-estimator:hover label.sk-toggleable__label-arrow:before {color: black;}#sk-container-id-1 div.sk-toggleable__content {max-height: 0;max-width: 0;overflow: hidden;text-align: left;background-color: #f0f8ff;}#sk-container-id-1 div.sk-toggleable__content pre {margin: 0.2em;color: black;border-radius: 0.25em;background-color: #f0f8ff;}#sk-container-id-1 input.sk-toggleable__control:checked~div.sk-toggleable__content {max-height: 200px;max-width: 100%;overflow: auto;}#sk-container-id-1 input.sk-toggleable__control:checked~label.sk-toggleable__label-arrow:before {content: \"▾\";}#sk-container-id-1 div.sk-estimator input.sk-toggleable__control:checked~label.sk-toggleable__label {background-color: #d4ebff;}#sk-container-id-1 div.sk-label input.sk-toggleable__control:checked~label.sk-toggleable__label {background-color: #d4ebff;}#sk-container-id-1 input.sk-hidden--visually {border: 0;clip: rect(1px 1px 1px 1px);clip: rect(1px, 1px, 1px, 1px);height: 1px;margin: -1px;overflow: hidden;padding: 0;position: absolute;width: 1px;}#sk-container-id-1 div.sk-estimator {font-family: monospace;background-color: #f0f8ff;border: 1px dotted black;border-radius: 0.25em;box-sizing: border-box;margin-bottom: 0.5em;}#sk-container-id-1 div.sk-estimator:hover {background-color: #d4ebff;}#sk-container-id-1 div.sk-parallel-item::after {content: \"\";width: 100%;border-bottom: 1px solid gray;flex-grow: 1;}#sk-container-id-1 div.sk-label:hover label.sk-toggleable__label {background-color: #d4ebff;}#sk-container-id-1 div.sk-serial::before {content: \"\";position: absolute;border-left: 1px solid gray;box-sizing: border-box;top: 0;bottom: 0;left: 50%;z-index: 0;}#sk-container-id-1 div.sk-serial {display: flex;flex-direction: column;align-items: center;background-color: white;padding-right: 0.2em;padding-left: 0.2em;position: relative;}#sk-container-id-1 div.sk-item {position: relative;z-index: 1;}#sk-container-id-1 div.sk-parallel {display: flex;align-items: stretch;justify-content: center;background-color: white;position: relative;}#sk-container-id-1 div.sk-item::before, #sk-container-id-1 div.sk-parallel-item::before {content: \"\";position: absolute;border-left: 1px solid gray;box-sizing: border-box;top: 0;bottom: 0;left: 50%;z-index: -1;}#sk-container-id-1 div.sk-parallel-item {display: flex;flex-direction: column;z-index: 1;position: relative;background-color: white;}#sk-container-id-1 div.sk-parallel-item:first-child::after {align-self: flex-end;width: 50%;}#sk-container-id-1 div.sk-parallel-item:last-child::after {align-self: flex-start;width: 50%;}#sk-container-id-1 div.sk-parallel-item:only-child::after {width: 0;}#sk-container-id-1 div.sk-dashed-wrapped {border: 1px dashed gray;margin: 0 0.4em 0.5em 0.4em;box-sizing: border-box;padding-bottom: 0.4em;background-color: white;}#sk-container-id-1 div.sk-label label {font-family: monospace;font-weight: bold;display: inline-block;line-height: 1.2em;}#sk-container-id-1 div.sk-label-container {text-align: center;}#sk-container-id-1 div.sk-container {/* jupyter's `normalize.less` sets `[hidden] { display: none; }` but bootstrap.min.css set `[hidden] { display: none !important; }` so we also need the `!important` here to be able to override the default hidden behavior on the sphinx rendered scikit-learn.org. See: https://github.com/scikit-learn/scikit-learn/issues/21755 */display: inline-block !important;position: relative;}#sk-container-id-1 div.sk-text-repr-fallback {display: none;}</style><div id=\"sk-container-id-1\" class=\"sk-top-container\"><div class=\"sk-text-repr-fallback\"><pre>DecisionTreeClassifier(random_state=42)</pre><b>In a Jupyter environment, please rerun this cell to show the HTML representation or trust the notebook. <br />On GitHub, the HTML representation is unable to render, please try loading this page with nbviewer.org.</b></div><div class=\"sk-container\" hidden><div class=\"sk-item\"><div class=\"sk-estimator sk-toggleable\"><input class=\"sk-toggleable__control sk-hidden--visually\" id=\"sk-estimator-id-1\" type=\"checkbox\" checked><label for=\"sk-estimator-id-1\" class=\"sk-toggleable__label sk-toggleable__label-arrow\">DecisionTreeClassifier</label><div class=\"sk-toggleable__content\"><pre>DecisionTreeClassifier(random_state=42)</pre></div></div></div></div></div>"
      ],
      "text/plain": [
       "DecisionTreeClassifier(random_state=42)"
      ]
     },
     "execution_count": 24,
     "metadata": {},
     "output_type": "execute_result"
    }
   ],
   "source": [
    "finalXs = ['Age','AnnualSalary']\n",
    "clf.fit(X_train[finalXs], y_train) #building the final model"
   ]
  },
  {
   "cell_type": "code",
   "execution_count": 26,
   "id": "81936021-3339-4ea5-bcf2-9e6648916794",
   "metadata": {},
   "outputs": [
    {
     "data": {
      "text/plain": [
       "0.9925"
      ]
     },
     "execution_count": 26,
     "metadata": {},
     "output_type": "execute_result"
    }
   ],
   "source": [
    "clf.score(X_train[finalXs], y_train)"
   ]
  },
  {
   "cell_type": "code",
   "execution_count": 25,
   "id": "796b7708-3007-4634-8eda-a122d16701f6",
   "metadata": {},
   "outputs": [
    {
     "data": {
      "text/plain": [
       "0.905"
      ]
     },
     "execution_count": 25,
     "metadata": {},
     "output_type": "execute_result"
    }
   ],
   "source": [
    "clf.score(X_test[finalXs], y_test)"
   ]
  },
  {
   "cell_type": "markdown",
   "id": "a7bd8b65-d93b-4b9b-a5ec-bcb85d79d5eb",
   "metadata": {},
   "source": [
    "**Coffee break for 15 min until 10:15am BST / 5:15am EST**"
   ]
  },
  {
   "cell_type": "markdown",
   "id": "455ae077-cf92-4c16-a8c1-7b35e9b3579d",
   "metadata": {},
   "source": [
    "**Q: how to quickly create permutations/combinations of the x-variables**\n",
    "A: use itertools combinations formula\n",
    "- `combinations(list of headers, x)`, where x is the # of headers to use\n",
    "- can then use a for loop to run different numbers\n",
    "\n",
    "See example below"
   ]
  },
  {
   "cell_type": "code",
   "execution_count": 48,
   "id": "dba39e45-a371-42ee-945f-e7f638bc2987",
   "metadata": {},
   "outputs": [],
   "source": [
    "import itertools\n",
    "test = ['Age', 'Salary', 'Female','City','Title','Company']\n",
    "combos = itertools.combinations(test, 2)\n",
    "splits = [x for x in combos]\n",
    "# splits"
   ]
  },
  {
   "cell_type": "code",
   "execution_count": 52,
   "id": "3e0a27dd-a3ce-4b03-9143-b338ac3be566",
   "metadata": {},
   "outputs": [],
   "source": [
    "# list1 = [1, 4, 5]\n",
    "# list2 = [6, 7]\n",
    "# list1.extend(list2)\n",
    "# list1"
   ]
  },
  {
   "cell_type": "code",
   "execution_count": 54,
   "id": "cca6b50b-b887-4e81-99d2-322b1e04b84e",
   "metadata": {
    "scrolled": true
   },
   "outputs": [
    {
     "data": {
      "text/plain": [
       "(7,\n",
       " [('Age',),\n",
       "  ('AnnualSalary',),\n",
       "  ('Female',),\n",
       "  ('Age', 'AnnualSalary'),\n",
       "  ('Age', 'Female'),\n",
       "  ('AnnualSalary', 'Female'),\n",
       "  ('Age', 'AnnualSalary', 'Female')])"
      ]
     },
     "execution_count": 54,
     "metadata": {},
     "output_type": "execute_result"
    }
   ],
   "source": [
    "import itertools\n",
    "#allXs = ['Age', 'Salary', 'Female','City','Title','Company']\n",
    "allXs = ['Age', 'AnnualSalary', 'Female']\n",
    "allCombos = []\n",
    "for num in range(1,len(allXs)+1):\n",
    "    combos = itertools.combinations(allXs, num)\n",
    "    splits = [x for x in combos]\n",
    "    allCombos.extend(splits)\n",
    "len(allCombos), allCombos"
   ]
  },
  {
   "cell_type": "markdown",
   "id": "e318526e-f142-491d-9460-009d9894335f",
   "metadata": {},
   "source": [
    "## Using different split methods for the folds\n",
    "- for classifier models, when you use the `cross_val_score`, automatically does a Stratified cut\n",
    "    - keeps proportions of 0/1s in the train/test of the cross validations\n",
    "- you can pick your own type of cut\n",
    "- come up a variable to the does cut\n",
    "    - e.g. `cv = StratifiedKFold()`\n",
    "- cross_val_score(... cv = variable that you made) instead of cv = 5"
   ]
  },
  {
   "cell_type": "code",
   "execution_count": 55,
   "id": "f227146c-1ff2-463e-bdfb-3badc4656577",
   "metadata": {},
   "outputs": [
    {
     "data": {
      "text/plain": [
       "array([0.8    , 0.85   , 0.76875, 0.83125, 0.8375 ])"
      ]
     },
     "execution_count": 55,
     "metadata": {},
     "output_type": "execute_result"
    }
   ],
   "source": [
    "cvCut = StratifiedKFold(n_splits=5)\n",
    "cross_val_score(clf, X_train[['Age']], y_train, cv=cvCut)"
   ]
  },
  {
   "cell_type": "code",
   "execution_count": 56,
   "id": "b340d466-669a-4dfe-882d-7de213db8762",
   "metadata": {},
   "outputs": [
    {
     "data": {
      "text/plain": [
       "array([0.8    , 0.85   , 0.76875, 0.83125, 0.8375 ])"
      ]
     },
     "execution_count": 56,
     "metadata": {},
     "output_type": "execute_result"
    }
   ],
   "source": [
    "cross_val_score(clf, X_train[['Age']], y_train, cv=5) "
   ]
  },
  {
   "cell_type": "markdown",
   "id": "d6fa44bf-869b-4515-9cc2-5d0721fc4a80",
   "metadata": {},
   "source": [
    "## Example of GroupKFold\n",
    "- we're going to create different Age groups, and try running different models where we \"keep out\" one group"
   ]
  },
  {
   "cell_type": "code",
   "execution_count": 59,
   "id": "6552c803-cb32-48e8-828b-fe5dec9df94b",
   "metadata": {},
   "outputs": [
    {
     "data": {
      "text/plain": [
       "array([18., 27., 36., 45., 54., 63.])"
      ]
     },
     "execution_count": 59,
     "metadata": {},
     "output_type": "execute_result"
    }
   ],
   "source": [
    "np.linspace(18,63,6)"
   ]
  },
  {
   "cell_type": "code",
   "execution_count": 60,
   "id": "af43c199-83b0-460c-9810-ed48aaf1348c",
   "metadata": {},
   "outputs": [
    {
     "data": {
      "text/html": [
       "<div>\n",
       "<style scoped>\n",
       "    .dataframe tbody tr th:only-of-type {\n",
       "        vertical-align: middle;\n",
       "    }\n",
       "\n",
       "    .dataframe tbody tr th {\n",
       "        vertical-align: top;\n",
       "    }\n",
       "\n",
       "    .dataframe thead th {\n",
       "        text-align: right;\n",
       "    }\n",
       "</style>\n",
       "<table border=\"1\" class=\"dataframe\">\n",
       "  <thead>\n",
       "    <tr style=\"text-align: right;\">\n",
       "      <th></th>\n",
       "      <th>Gender</th>\n",
       "      <th>Age</th>\n",
       "      <th>AnnualSalary</th>\n",
       "      <th>Purchased</th>\n",
       "      <th>Female</th>\n",
       "      <th>Male</th>\n",
       "      <th>AgeGroup</th>\n",
       "    </tr>\n",
       "    <tr>\n",
       "      <th>User ID</th>\n",
       "      <th></th>\n",
       "      <th></th>\n",
       "      <th></th>\n",
       "      <th></th>\n",
       "      <th></th>\n",
       "      <th></th>\n",
       "      <th></th>\n",
       "    </tr>\n",
       "  </thead>\n",
       "  <tbody>\n",
       "    <tr>\n",
       "      <th>385</th>\n",
       "      <td>Male</td>\n",
       "      <td>35</td>\n",
       "      <td>20000</td>\n",
       "      <td>0</td>\n",
       "      <td>False</td>\n",
       "      <td>True</td>\n",
       "      <td>2</td>\n",
       "    </tr>\n",
       "    <tr>\n",
       "      <th>681</th>\n",
       "      <td>Male</td>\n",
       "      <td>40</td>\n",
       "      <td>43500</td>\n",
       "      <td>0</td>\n",
       "      <td>False</td>\n",
       "      <td>True</td>\n",
       "      <td>3</td>\n",
       "    </tr>\n",
       "    <tr>\n",
       "      <th>353</th>\n",
       "      <td>Male</td>\n",
       "      <td>49</td>\n",
       "      <td>74000</td>\n",
       "      <td>0</td>\n",
       "      <td>False</td>\n",
       "      <td>True</td>\n",
       "      <td>4</td>\n",
       "    </tr>\n",
       "    <tr>\n",
       "      <th>895</th>\n",
       "      <td>Male</td>\n",
       "      <td>40</td>\n",
       "      <td>107500</td>\n",
       "      <td>1</td>\n",
       "      <td>False</td>\n",
       "      <td>True</td>\n",
       "      <td>3</td>\n",
       "    </tr>\n",
       "    <tr>\n",
       "      <th>661</th>\n",
       "      <td>Male</td>\n",
       "      <td>25</td>\n",
       "      <td>79000</td>\n",
       "      <td>0</td>\n",
       "      <td>False</td>\n",
       "      <td>True</td>\n",
       "      <td>1</td>\n",
       "    </tr>\n",
       "  </tbody>\n",
       "</table>\n",
       "</div>"
      ],
      "text/plain": [
       "        Gender  Age  AnnualSalary  Purchased  Female  Male  AgeGroup\n",
       "User ID                                                             \n",
       "385       Male   35         20000          0   False  True         2\n",
       "681       Male   40         43500          0   False  True         3\n",
       "353       Male   49         74000          0   False  True         4\n",
       "895       Male   40        107500          1   False  True         3\n",
       "661       Male   25         79000          0   False  True         1"
      ]
     },
     "execution_count": 60,
     "metadata": {},
     "output_type": "execute_result"
    }
   ],
   "source": [
    "df['AgeGroup'] = 0\n",
    "df.loc[(df['Age'] >= 18) & (df['Age'] <=26), 'AgeGroup'] = 1\n",
    "df.loc[(df['Age'] >= 27) & (df['Age'] <=35), 'AgeGroup'] = 2\n",
    "df.loc[(df['Age'] >= 36) & (df['Age'] <=44), 'AgeGroup'] = 3\n",
    "df.loc[(df['Age'] >= 45) & (df['Age'] <=53), 'AgeGroup'] = 4\n",
    "df.loc[(df['Age'] >= 54) & (df['Age'] <=62), 'AgeGroup'] = 5\n",
    "df.loc[(df['Age'] >= 63), 'AgeGroup'] = 6\n",
    "\n",
    "df.head(5)"
   ]
  },
  {
   "cell_type": "code",
   "execution_count": 61,
   "id": "35d92a51-6617-43fe-bbba-4e2014cfaa10",
   "metadata": {},
   "outputs": [
    {
     "data": {
      "text/plain": [
       "AgeGroup\n",
       "3    340\n",
       "4    213\n",
       "2    210\n",
       "5    116\n",
       "1    114\n",
       "6      7\n",
       "Name: count, dtype: int64"
      ]
     },
     "execution_count": 61,
     "metadata": {},
     "output_type": "execute_result"
    }
   ],
   "source": [
    "df['AgeGroup'].value_counts()"
   ]
  },
  {
   "cell_type": "code",
   "execution_count": 62,
   "id": "168c2c9b-5d62-474f-9c7f-7c8c7e4bd096",
   "metadata": {},
   "outputs": [
    {
     "data": {
      "text/html": [
       "<div>\n",
       "<style scoped>\n",
       "    .dataframe tbody tr th:only-of-type {\n",
       "        vertical-align: middle;\n",
       "    }\n",
       "\n",
       "    .dataframe tbody tr th {\n",
       "        vertical-align: top;\n",
       "    }\n",
       "\n",
       "    .dataframe thead tr th {\n",
       "        text-align: left;\n",
       "    }\n",
       "\n",
       "    .dataframe thead tr:last-of-type th {\n",
       "        text-align: right;\n",
       "    }\n",
       "</style>\n",
       "<table border=\"1\" class=\"dataframe\">\n",
       "  <thead>\n",
       "    <tr>\n",
       "      <th></th>\n",
       "      <th colspan=\"4\" halign=\"left\">Age</th>\n",
       "      <th colspan=\"4\" halign=\"left\">AnnualSalary</th>\n",
       "    </tr>\n",
       "    <tr>\n",
       "      <th></th>\n",
       "      <th>min</th>\n",
       "      <th>max</th>\n",
       "      <th>mean</th>\n",
       "      <th>count</th>\n",
       "      <th>min</th>\n",
       "      <th>max</th>\n",
       "      <th>mean</th>\n",
       "      <th>count</th>\n",
       "    </tr>\n",
       "    <tr>\n",
       "      <th>AgeGroup</th>\n",
       "      <th></th>\n",
       "      <th></th>\n",
       "      <th></th>\n",
       "      <th></th>\n",
       "      <th></th>\n",
       "      <th></th>\n",
       "      <th></th>\n",
       "      <th></th>\n",
       "    </tr>\n",
       "  </thead>\n",
       "  <tbody>\n",
       "    <tr>\n",
       "      <th>1</th>\n",
       "      <td>18</td>\n",
       "      <td>26</td>\n",
       "      <td>22.692982</td>\n",
       "      <td>114</td>\n",
       "      <td>15000</td>\n",
       "      <td>118000</td>\n",
       "      <td>55767.543860</td>\n",
       "      <td>114</td>\n",
       "    </tr>\n",
       "    <tr>\n",
       "      <th>2</th>\n",
       "      <td>27</td>\n",
       "      <td>35</td>\n",
       "      <td>30.985714</td>\n",
       "      <td>210</td>\n",
       "      <td>15000</td>\n",
       "      <td>151500</td>\n",
       "      <td>69254.761905</td>\n",
       "      <td>210</td>\n",
       "    </tr>\n",
       "    <tr>\n",
       "      <th>3</th>\n",
       "      <td>36</td>\n",
       "      <td>44</td>\n",
       "      <td>39.655882</td>\n",
       "      <td>340</td>\n",
       "      <td>21500</td>\n",
       "      <td>150500</td>\n",
       "      <td>77164.705882</td>\n",
       "      <td>340</td>\n",
       "    </tr>\n",
       "    <tr>\n",
       "      <th>4</th>\n",
       "      <td>45</td>\n",
       "      <td>53</td>\n",
       "      <td>48.657277</td>\n",
       "      <td>213</td>\n",
       "      <td>20000</td>\n",
       "      <td>151500</td>\n",
       "      <td>73244.131455</td>\n",
       "      <td>213</td>\n",
       "    </tr>\n",
       "    <tr>\n",
       "      <th>5</th>\n",
       "      <td>54</td>\n",
       "      <td>62</td>\n",
       "      <td>57.965517</td>\n",
       "      <td>116</td>\n",
       "      <td>23000</td>\n",
       "      <td>152500</td>\n",
       "      <td>81693.965517</td>\n",
       "      <td>116</td>\n",
       "    </tr>\n",
       "    <tr>\n",
       "      <th>6</th>\n",
       "      <td>63</td>\n",
       "      <td>63</td>\n",
       "      <td>63.000000</td>\n",
       "      <td>7</td>\n",
       "      <td>36500</td>\n",
       "      <td>110500</td>\n",
       "      <td>67785.714286</td>\n",
       "      <td>7</td>\n",
       "    </tr>\n",
       "  </tbody>\n",
       "</table>\n",
       "</div>"
      ],
      "text/plain": [
       "         Age                      AnnualSalary                            \n",
       "         min max       mean count          min     max          mean count\n",
       "AgeGroup                                                                  \n",
       "1         18  26  22.692982   114        15000  118000  55767.543860   114\n",
       "2         27  35  30.985714   210        15000  151500  69254.761905   210\n",
       "3         36  44  39.655882   340        21500  150500  77164.705882   340\n",
       "4         45  53  48.657277   213        20000  151500  73244.131455   213\n",
       "5         54  62  57.965517   116        23000  152500  81693.965517   116\n",
       "6         63  63  63.000000     7        36500  110500  67785.714286     7"
      ]
     },
     "execution_count": 62,
     "metadata": {},
     "output_type": "execute_result"
    }
   ],
   "source": [
    "df.groupby(['AgeGroup'])[['Age','AnnualSalary']].agg(['min','max','mean','count'])"
   ]
  },
  {
   "cell_type": "code",
   "execution_count": 63,
   "id": "b10526ea-99af-4948-9632-130122990b1e",
   "metadata": {},
   "outputs": [
    {
     "data": {
      "text/plain": [
       "AgeGroup  Purchased\n",
       "1         0            114\n",
       "2         0            179\n",
       "          1             31\n",
       "3         0            248\n",
       "          1             92\n",
       "4         1            163\n",
       "          0             50\n",
       "5         1            109\n",
       "          0              7\n",
       "6         1              7\n",
       "Name: count, dtype: int64"
      ]
     },
     "execution_count": 63,
     "metadata": {},
     "output_type": "execute_result"
    }
   ],
   "source": [
    "df.groupby(['AgeGroup'])['Purchased'].value_counts()"
   ]
  },
  {
   "cell_type": "code",
   "execution_count": 66,
   "id": "061c7cc0-0285-4f21-af98-fabece2edff5",
   "metadata": {},
   "outputs": [
    {
     "data": {
      "image/png": "[encoded data removed]",
      "text/plain": [
       "<Figure size 1000x600 with 1 Axes>"
      ]
     },
     "metadata": {},
     "output_type": "display_data"
    }
   ],
   "source": [
    "plt.figure(figsize=(10,6))\n",
    "sns.violinplot(data=df, x='AgeGroup', y='AnnualSalary', hue='Purchased' )\n",
    "plt.show()"
   ]
  },
  {
   "cell_type": "code",
   "execution_count": 77,
   "id": "b7bfc01c-12dc-454c-b7fe-8df5358f6820",
   "metadata": {},
   "outputs": [],
   "source": [
    "# df.head()"
   ]
  },
  {
   "cell_type": "code",
   "execution_count": 71,
   "id": "2b333035-a05b-465e-93f0-d97d042e9a99",
   "metadata": {},
   "outputs": [
    {
     "data": {
      "text/plain": [
       "<generator object _BaseKFold.split at 0x0000022B85C69820>"
      ]
     },
     "execution_count": 71,
     "metadata": {},
     "output_type": "execute_result"
    }
   ],
   "source": [
    "cv = GroupKFold(n_splits=6)  # Must me less than or equal to number of groups\n",
    "cv.split(df[['AnnualSalary', 'Female']], df['Purchased'], groups=df['AgeGroup'])"
   ]
  },
  {
   "cell_type": "code",
   "execution_count": 74,
   "id": "d25d8aee-8866-4986-ae97-a8385cbbd2ea",
   "metadata": {},
   "outputs": [
    {
     "data": {
      "text/plain": [
       "Index(['Gender', 'Age', 'AnnualSalary', 'Purchased', 'Female', 'Male',\n",
       "       'AgeGroup'],\n",
       "      dtype='object')"
      ]
     },
     "execution_count": 74,
     "metadata": {},
     "output_type": "execute_result"
    }
   ],
   "source": [
    "df.columns"
   ]
  },
  {
   "cell_type": "code",
   "execution_count": 75,
   "id": "a8401901-301c-4525-b03b-ed856e9a5e5d",
   "metadata": {},
   "outputs": [
    {
     "name": "stdout",
     "output_type": "stream",
     "text": [
      "Hold-out group: [3]\n",
      "Score: 0.8529411764705882\n",
      "              precision    recall  f1-score   support\n",
      "\n",
      "           0       0.88      0.92      0.90       248\n",
      "           1       0.76      0.66      0.71        92\n",
      "\n",
      "    accuracy                           0.85       340\n",
      "   macro avg       0.82      0.79      0.81       340\n",
      "weighted avg       0.85      0.85      0.85       340\n",
      "\n",
      "----------------------------------------------------------------------------------------------------\n",
      "Hold-out group: [4]\n",
      "Score: 0.6056338028169014\n",
      "              precision    recall  f1-score   support\n",
      "\n",
      "           0       0.33      0.68      0.45        50\n",
      "           1       0.86      0.58      0.69       163\n",
      "\n",
      "    accuracy                           0.61       213\n",
      "   macro avg       0.59      0.63      0.57       213\n",
      "weighted avg       0.73      0.61      0.64       213\n",
      "\n",
      "----------------------------------------------------------------------------------------------------\n",
      "Hold-out group: [2]\n",
      "Score: 0.8952380952380953\n",
      "              precision    recall  f1-score   support\n",
      "\n",
      "           0       0.92      0.97      0.94       179\n",
      "           1       0.71      0.48      0.58        31\n",
      "\n",
      "    accuracy                           0.90       210\n",
      "   macro avg       0.81      0.73      0.76       210\n",
      "weighted avg       0.89      0.90      0.89       210\n",
      "\n",
      "----------------------------------------------------------------------------------------------------\n",
      "Hold-out group: [5]\n",
      "Score: 0.7844827586206896\n",
      "              precision    recall  f1-score   support\n",
      "\n",
      "           0       0.00      0.00      0.00         7\n",
      "           1       0.93      0.83      0.88       109\n",
      "\n",
      "    accuracy                           0.78       116\n",
      "   macro avg       0.46      0.42      0.44       116\n",
      "weighted avg       0.87      0.78      0.83       116\n",
      "\n",
      "----------------------------------------------------------------------------------------------------\n",
      "Hold-out group: [1]\n",
      "Score: 1.0\n",
      "              precision    recall  f1-score   support\n",
      "\n",
      "           0       1.00      1.00      1.00       114\n",
      "\n",
      "    accuracy                           1.00       114\n",
      "   macro avg       1.00      1.00      1.00       114\n",
      "weighted avg       1.00      1.00      1.00       114\n",
      "\n",
      "----------------------------------------------------------------------------------------------------\n",
      "Hold-out group: [6]\n",
      "Score: 1.0\n",
      "              precision    recall  f1-score   support\n",
      "\n",
      "           1       1.00      1.00      1.00         7\n",
      "\n",
      "    accuracy                           1.00         7\n",
      "   macro avg       1.00      1.00      1.00         7\n",
      "weighted avg       1.00      1.00      1.00         7\n",
      "\n",
      "----------------------------------------------------------------------------------------------------\n"
     ]
    }
   ],
   "source": [
    "predictCols = [1, 2, 4]  #cols 1, 2, 4 = Age, AnnualSalary, Female\n",
    "#predictCols = [2, 4] #try running with Age removed\n",
    "targetCol = [3] #col 3 = Purchased\n",
    "scores = [] #to keep the scores of all trained models\n",
    "\n",
    "for train_index, test_index in cv.split(df[['AnnualSalary', 'Female']], df['Purchased'], groups=df['AgeGroup']):\n",
    "    print(\"Hold-out group:\",df.iloc[test_index, -1].unique()) #print out which test group was hold out\n",
    "    \n",
    "    clf.fit(df.iloc[train_index, predictCols], df.iloc[train_index, targetCol])\n",
    "    score = clf.score(df.iloc[test_index, predictCols], df.iloc[test_index, targetCol])\n",
    "    scores.append(score)\n",
    "    print(\"Score:\",score)\n",
    "    print(classification_report(df.iloc[test_index, targetCol], clf.predict(df.iloc[test_index, predictCols])))\n",
    "    print(\"-\" * 100)"
   ]
  },
  {
   "cell_type": "markdown",
   "id": "f10189c3-7392-4ce3-ab49-6481c46fe9f1",
   "metadata": {},
   "source": [
    "## Working Session until 11:30am BST / 6:30 am EST\n",
    "- ModelSelectionAssignment.ipynb - copy it over from Assignments folder"
   ]
  },
  {
   "cell_type": "markdown",
   "id": "ee690ab7-613a-4810-9f3a-eae411c1cfa3",
   "metadata": {},
   "source": [
    "## Takeup - GroupK Fold"
   ]
  },
  {
   "cell_type": "code",
   "execution_count": 88,
   "id": "31ca42ac-b5ea-445d-82c1-f63320f27a89",
   "metadata": {},
   "outputs": [],
   "source": [
    "#Add codes for logistic\n",
    "from sklearn.linear_model import LogisticRegression\n",
    "from sklearn.preprocessing import StandardScaler\n",
    "df['AnnualSalaryStd'] = StandardScaler().fit_transform(df[['AnnualSalary']])"
   ]
  },
  {
   "cell_type": "code",
   "execution_count": 89,
   "id": "73650e85-29c3-46cc-85fb-878932432acc",
   "metadata": {},
   "outputs": [],
   "source": [
    "clf_DT = tree.DecisionTreeClassifier(random_state=42)\n",
    "clf_LogR = LogisticRegression(random_state=42)"
   ]
  },
  {
   "cell_type": "code",
   "execution_count": 91,
   "id": "ddbc4aa7-e8ca-4271-83c6-266d579fcb20",
   "metadata": {},
   "outputs": [],
   "source": [
    "cv = GroupKFold(n_splits=6)\n",
    "allXs = ['Age','AnnualSalary','Female','AgeGroup','AnnualSalaryStd']\n",
    "X_train, X_test, y_train, y_test = train_test_split(df[allXs], df['Purchased'],\n",
    "                                                    test_size=0.2,\n",
    "                                                    random_state=0)"
   ]
  },
  {
   "cell_type": "markdown",
   "id": "6a0bb740-2377-4084-9dd9-d88add7dc710",
   "metadata": {},
   "source": [
    "**Cross Val Score Model with just salary and gender**"
   ]
  },
  {
   "cell_type": "code",
   "execution_count": 95,
   "id": "9734aeb3-582f-438f-bb52-30869d15fb03",
   "metadata": {},
   "outputs": [
    {
     "data": {
      "text/plain": [
       "(array([0.77859779, 0.43023256, 0.79289941, 0.52688172, 0.69662921,\n",
       "        0.33333333]),\n",
       " 0.5930956699413342,\n",
       " 0.17485084851750832)"
      ]
     },
     "execution_count": 95,
     "metadata": {},
     "output_type": "execute_result"
    }
   ],
   "source": [
    "#Decision tree\n",
    "cols = ['AnnualSalary','Female']\n",
    "scores_DT = cross_val_score(clf_DT, X_train[cols], y_train, groups=X_train['AgeGroup'], cv=cv)\n",
    "scores_DT, scores_DT.mean(), scores_DT.std()"
   ]
  },
  {
   "cell_type": "code",
   "execution_count": 96,
   "id": "9c0e3d61-985f-40a5-aef0-0362b1a3963d",
   "metadata": {},
   "outputs": [
    {
     "data": {
      "text/plain": [
       "(array([0.79704797, 0.4244186 , 0.79881657, 0.37634409, 0.84269663,\n",
       "        0.33333333]),\n",
       " 0.5954428652910878,\n",
       " 0.2195050814645907)"
      ]
     },
     "execution_count": 96,
     "metadata": {},
     "output_type": "execute_result"
    }
   ],
   "source": [
    "#Logistic regression\n",
    "cols = ['AnnualSalaryStd','Female']\n",
    "scores_Log = cross_val_score(clf_LogR, X_train[cols], y_train, groups=X_train['AgeGroup'], cv=cv)\n",
    "scores_Log, scores_Log.mean(), scores_Log.std()"
   ]
  },
  {
   "cell_type": "code",
   "execution_count": 97,
   "id": "6d6172f6-27fa-440e-a902-1206ccf9ce57",
   "metadata": {},
   "outputs": [
    {
     "data": {
      "text/plain": [
       "(array([0.8302583 , 0.59883721, 0.8816568 , 0.75268817, 1.        ,\n",
       "        1.        ]),\n",
       " 0.8439067481103483,\n",
       " 0.14066595233784826)"
      ]
     },
     "execution_count": 97,
     "metadata": {},
     "output_type": "execute_result"
    }
   ],
   "source": [
    "#Decision Tree - age added in\n",
    "cols = ['AnnualSalary','Female','Age']\n",
    "scores_DT = cross_val_score(clf_DT, X_train[cols], y_train, groups=X_train['AgeGroup'], cv=cv)\n",
    "scores_DT, scores_DT.mean(), scores_DT.std()"
   ]
  },
  {
   "cell_type": "code",
   "execution_count": 98,
   "id": "0b785144-786a-4023-9427-df5645d3be05",
   "metadata": {},
   "outputs": [
    {
     "data": {
      "text/plain": [
       "(array([0.77490775, 0.47674419, 0.84023669, 0.93548387, 1.        ,\n",
       "        1.        ]),\n",
       " 0.8378954154137128,\n",
       " 0.18096152329474036)"
      ]
     },
     "execution_count": 98,
     "metadata": {},
     "output_type": "execute_result"
    }
   ],
   "source": [
    "#Logistic regression - age added in\n",
    "cols = ['AnnualSalaryStd','Female','Age']\n",
    "scores_Log = cross_val_score(clf_LogR, X_train[cols], y_train, groups=X_train['AgeGroup'], cv=cv)\n",
    "scores_Log, scores_Log.mean(), scores_Log.std()"
   ]
  },
  {
   "cell_type": "markdown",
   "id": "583ee483-c4d5-4006-8081-f0912cb5259b",
   "metadata": {},
   "source": [
    "## Wraup-UP\n",
    "- https://www.surveymonkey.com/r/VFQYMNL\n",
    "- github: https://github.com/TheMarqueeGroup/JPM_DS_Oct2023\n",
    "- all answer keys will be on here; will also send a consolidated zip file\n",
    "- github will stay up for 1 more week\n",
    "- extra resources:\n",
    "    - https://scikit-learn.org/stable/index.html\n",
    "    - https://bogdan.streamlit.app/"
   ]
  }
 ],
 "metadata": {
  "kernelspec": {
   "display_name": "Python 3 (ipykernel)",
   "language": "python",
   "name": "python3"
  },
  "language_info": {
   "codemirror_mode": {
    "name": "ipython",
    "version": 3
   },
   "file_extension": ".py",
   "mimetype": "text/x-python",
   "name": "python",
   "nbconvert_exporter": "python",
   "pygments_lexer": "ipython3",
   "version": "3.8.10"
  }
 },
 "nbformat": 4,
 "nbformat_minor": 5
}
