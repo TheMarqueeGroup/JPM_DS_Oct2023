{
 "cells": [
  {
   "cell_type": "markdown",
   "id": "35218f3a-476f-4ef2-b473-f23ffa216a39",
   "metadata": {},
   "source": [
    "# Takeup Assignment 2 - Fama French Linear Regression"
   ]
  },
  {
   "cell_type": "code",
   "execution_count": 1,
   "id": "b8b6fb38-2f3e-42b1-af88-7e9c50795dbc",
   "metadata": {},
   "outputs": [],
   "source": [
    "import pandas as pd\n",
    "import statsmodels.api as sm"
   ]
  },
  {
   "cell_type": "code",
   "execution_count": 7,
   "id": "41f224b5-9757-4ddb-bfac-9e4383c17fbd",
   "metadata": {},
   "outputs": [],
   "source": [
    "aapl = pd.read_csv('StockData/AAPL.csv', parse_dates=['Date'], index_col=['Date'])\n",
    "ff3 = pd.read_csv('ExData/ff3_daily.CSV', parse_dates=['date'])\n",
    "# ff3.info()\n",
    "# ff3.head()\n",
    "aapl['Returns'] = aapl['Adj Close'].pct_change()\n",
    "aapl['Returns'] *= 100  #  x = x * 100 --> x *= 100"
   ]
  },
  {
   "cell_type": "code",
   "execution_count": 14,
   "id": "4ab7f923-c027-4b59-8d8e-527c87909f04",
   "metadata": {},
   "outputs": [],
   "source": [
    "# newCols = [x.lower() for x in aapl.columns]\n",
    "# aapl.columns = newCols"
   ]
  },
  {
   "cell_type": "code",
   "execution_count": 15,
   "id": "62f4896f-0c06-4445-ba90-2d7d45fcac53",
   "metadata": {},
   "outputs": [
    {
     "data": {
      "text/plain": [
       "Index(['date', 'Mkt-RF', 'SMB', 'HML', 'RF', 'Open', 'High', 'Low', 'Close',\n",
       "       'Adj Close', 'Volume', 'Returns'],\n",
       "      dtype='object')"
      ]
     },
     "execution_count": 15,
     "metadata": {},
     "output_type": "execute_result"
    }
   ],
   "source": [
    "data.columns"
   ]
  },
  {
   "cell_type": "code",
   "execution_count": 17,
   "id": "83b5ac17-beda-4533-9fc5-c14a8d92659d",
   "metadata": {},
   "outputs": [],
   "source": [
    "data = ff3.merge(aapl, left_on=['date'], right_on=['Date'], how='inner')\n",
    "                        #  on=['Date'] if spelling is same\n",
    "data = data.dropna()  # data.dropna(inplace=True)\n",
    "data['AAPL - rf'] = data['Returns'] - data['RF'] #y-variable"
   ]
  },
  {
   "cell_type": "markdown",
   "id": "640a985e-cd73-46c7-8287-e568f5bfa867",
   "metadata": {},
   "source": [
    "## OLS Model - Without Constant"
   ]
  },
  {
   "cell_type": "code",
   "execution_count": 19,
   "id": "dba6bdb3-afa2-416b-8c07-f13be47c378c",
   "metadata": {
    "scrolled": true
   },
   "outputs": [
    {
     "data": {
      "text/html": [
       "<table class=\"simpletable\">\n",
       "<caption>OLS Regression Results</caption>\n",
       "<tr>\n",
       "  <th>Dep. Variable:</th>        <td>AAPL - rf</td>    <th>  R-squared (uncentered):</th>      <td>   0.352</td> \n",
       "</tr>\n",
       "<tr>\n",
       "  <th>Model:</th>                   <td>OLS</td>       <th>  Adj. R-squared (uncentered):</th> <td>   0.351</td> \n",
       "</tr>\n",
       "<tr>\n",
       "  <th>Method:</th>             <td>Least Squares</td>  <th>  F-statistic:       </th>          <td>   227.6</td> \n",
       "</tr>\n",
       "<tr>\n",
       "  <th>Date:</th>             <td>Thu, 05 Oct 2023</td> <th>  Prob (F-statistic):</th>          <td>6.91e-118</td>\n",
       "</tr>\n",
       "<tr>\n",
       "  <th>Time:</th>                 <td>09:35:58</td>     <th>  Log-Likelihood:    </th>          <td> -1952.5</td> \n",
       "</tr>\n",
       "<tr>\n",
       "  <th>No. Observations:</th>      <td>  1258</td>      <th>  AIC:               </th>          <td>   3911.</td> \n",
       "</tr>\n",
       "<tr>\n",
       "  <th>Df Residuals:</th>          <td>  1255</td>      <th>  BIC:               </th>          <td>   3926.</td> \n",
       "</tr>\n",
       "<tr>\n",
       "  <th>Df Model:</th>              <td>     3</td>      <th>                     </th>              <td> </td>    \n",
       "</tr>\n",
       "<tr>\n",
       "  <th>Covariance Type:</th>      <td>nonrobust</td>    <th>                     </th>              <td> </td>    \n",
       "</tr>\n",
       "</table>\n",
       "<table class=\"simpletable\">\n",
       "<tr>\n",
       "     <td></td>       <th>coef</th>     <th>std err</th>      <th>t</th>      <th>P>|t|</th>  <th>[0.025</th>    <th>0.975]</th>  \n",
       "</tr>\n",
       "<tr>\n",
       "  <th>Mkt-RF</th> <td>    1.0133</td> <td>    0.041</td> <td>   24.647</td> <td> 0.000</td> <td>    0.933</td> <td>    1.094</td>\n",
       "</tr>\n",
       "<tr>\n",
       "  <th>SMB</th>    <td>   -0.2589</td> <td>    0.065</td> <td>   -3.954</td> <td> 0.000</td> <td>   -0.387</td> <td>   -0.130</td>\n",
       "</tr>\n",
       "<tr>\n",
       "  <th>HML</th>    <td>   -0.5551</td> <td>    0.067</td> <td>   -8.237</td> <td> 0.000</td> <td>   -0.687</td> <td>   -0.423</td>\n",
       "</tr>\n",
       "</table>\n",
       "<table class=\"simpletable\">\n",
       "<tr>\n",
       "  <th>Omnibus:</th>       <td>227.246</td> <th>  Durbin-Watson:     </th> <td>   1.958</td>\n",
       "</tr>\n",
       "<tr>\n",
       "  <th>Prob(Omnibus):</th> <td> 0.000</td>  <th>  Jarque-Bera (JB):  </th> <td>3620.127</td>\n",
       "</tr>\n",
       "<tr>\n",
       "  <th>Skew:</th>          <td> 0.319</td>  <th>  Prob(JB):          </th> <td>    0.00</td>\n",
       "</tr>\n",
       "<tr>\n",
       "  <th>Kurtosis:</th>      <td>11.286</td>  <th>  Cond. No.          </th> <td>    1.79</td>\n",
       "</tr>\n",
       "</table><br/><br/>Notes:<br/>[1] R² is computed without centering (uncentered) since the model does not contain a constant.<br/>[2] Standard Errors assume that the covariance matrix of the errors is correctly specified."
      ],
      "text/latex": [
       "\\begin{center}\n",
       "\\begin{tabular}{lclc}\n",
       "\\toprule\n",
       "\\textbf{Dep. Variable:}    &    AAPL - rf     & \\textbf{  R-squared (uncentered):}      &     0.352   \\\\\n",
       "\\textbf{Model:}            &       OLS        & \\textbf{  Adj. R-squared (uncentered):} &     0.351   \\\\\n",
       "\\textbf{Method:}           &  Least Squares   & \\textbf{  F-statistic:       }          &     227.6   \\\\\n",
       "\\textbf{Date:}             & Thu, 05 Oct 2023 & \\textbf{  Prob (F-statistic):}          & 6.91e-118   \\\\\n",
       "\\textbf{Time:}             &     09:35:58     & \\textbf{  Log-Likelihood:    }          &   -1952.5   \\\\\n",
       "\\textbf{No. Observations:} &        1258      & \\textbf{  AIC:               }          &     3911.   \\\\\n",
       "\\textbf{Df Residuals:}     &        1255      & \\textbf{  BIC:               }          &     3926.   \\\\\n",
       "\\textbf{Df Model:}         &           3      & \\textbf{                     }          &             \\\\\n",
       "\\textbf{Covariance Type:}  &    nonrobust     & \\textbf{                     }          &             \\\\\n",
       "\\bottomrule\n",
       "\\end{tabular}\n",
       "\\begin{tabular}{lcccccc}\n",
       "                & \\textbf{coef} & \\textbf{std err} & \\textbf{t} & \\textbf{P$> |$t$|$} & \\textbf{[0.025} & \\textbf{0.975]}  \\\\\n",
       "\\midrule\n",
       "\\textbf{Mkt-RF} &       1.0133  &        0.041     &    24.647  &         0.000        &        0.933    &        1.094     \\\\\n",
       "\\textbf{SMB}    &      -0.2589  &        0.065     &    -3.954  &         0.000        &       -0.387    &       -0.130     \\\\\n",
       "\\textbf{HML}    &      -0.5551  &        0.067     &    -8.237  &         0.000        &       -0.687    &       -0.423     \\\\\n",
       "\\bottomrule\n",
       "\\end{tabular}\n",
       "\\begin{tabular}{lclc}\n",
       "\\textbf{Omnibus:}       & 227.246 & \\textbf{  Durbin-Watson:     } &    1.958  \\\\\n",
       "\\textbf{Prob(Omnibus):} &   0.000 & \\textbf{  Jarque-Bera (JB):  } & 3620.127  \\\\\n",
       "\\textbf{Skew:}          &   0.319 & \\textbf{  Prob(JB):          } &     0.00  \\\\\n",
       "\\textbf{Kurtosis:}      &  11.286 & \\textbf{  Cond. No.          } &     1.79  \\\\\n",
       "\\bottomrule\n",
       "\\end{tabular}\n",
       "%\\caption{OLS Regression Results}\n",
       "\\end{center}\n",
       "\n",
       "Notes: \\newline\n",
       " [1] R² is computed without centering (uncentered) since the model does not contain a constant. \\newline\n",
       " [2] Standard Errors assume that the covariance matrix of the errors is correctly specified."
      ],
      "text/plain": [
       "<class 'statsmodels.iolib.summary.Summary'>\n",
       "\"\"\"\n",
       "                                 OLS Regression Results                                \n",
       "=======================================================================================\n",
       "Dep. Variable:              AAPL - rf   R-squared (uncentered):                   0.352\n",
       "Model:                            OLS   Adj. R-squared (uncentered):              0.351\n",
       "Method:                 Least Squares   F-statistic:                              227.6\n",
       "Date:                Thu, 05 Oct 2023   Prob (F-statistic):                   6.91e-118\n",
       "Time:                        09:35:58   Log-Likelihood:                         -1952.5\n",
       "No. Observations:                1258   AIC:                                      3911.\n",
       "Df Residuals:                    1255   BIC:                                      3926.\n",
       "Df Model:                           3                                                  \n",
       "Covariance Type:            nonrobust                                                  \n",
       "==============================================================================\n",
       "                 coef    std err          t      P>|t|      [0.025      0.975]\n",
       "------------------------------------------------------------------------------\n",
       "Mkt-RF         1.0133      0.041     24.647      0.000       0.933       1.094\n",
       "SMB           -0.2589      0.065     -3.954      0.000      -0.387      -0.130\n",
       "HML           -0.5551      0.067     -8.237      0.000      -0.687      -0.423\n",
       "==============================================================================\n",
       "Omnibus:                      227.246   Durbin-Watson:                   1.958\n",
       "Prob(Omnibus):                  0.000   Jarque-Bera (JB):             3620.127\n",
       "Skew:                           0.319   Prob(JB):                         0.00\n",
       "Kurtosis:                      11.286   Cond. No.                         1.79\n",
       "==============================================================================\n",
       "\n",
       "Notes:\n",
       "[1] R² is computed without centering (uncentered) since the model does not contain a constant.\n",
       "[2] Standard Errors assume that the covariance matrix of the errors is correctly specified.\n",
       "\"\"\""
      ]
     },
     "execution_count": 19,
     "metadata": {},
     "output_type": "execute_result"
    }
   ],
   "source": [
    "model = sm.OLS(data['AAPL - rf'], data[['Mkt-RF','SMB','HML']])\n",
    "results = model.fit()\n",
    "results.summary()"
   ]
  },
  {
   "cell_type": "code",
   "execution_count": 20,
   "id": "0369907d-ee1d-43d0-9699-3b662a6affdc",
   "metadata": {
    "scrolled": true
   },
   "outputs": [],
   "source": [
    "data['Predictions'] = results.predict(data[['Mkt-RF','SMB','HML']])"
   ]
  },
  {
   "cell_type": "markdown",
   "id": "426a05e6-72f4-4595-840e-649745bc48cf",
   "metadata": {},
   "source": [
    "## OLS Model - With Constant"
   ]
  },
  {
   "cell_type": "code",
   "execution_count": 22,
   "id": "a14c6741-3a2e-4a64-b398-bca73b467530",
   "metadata": {},
   "outputs": [],
   "source": [
    "#adding a constant\n",
    "data['Const'] = 1\n",
    "\n",
    "X = sm.add_constant(data[['Mkt-RF','SMB','HML']])"
   ]
  },
  {
   "cell_type": "code",
   "execution_count": 23,
   "id": "97735369-cb85-4b94-9cec-0dcafd69a3d8",
   "metadata": {},
   "outputs": [
    {
     "data": {
      "text/html": [
       "<table class=\"simpletable\">\n",
       "<caption>OLS Regression Results</caption>\n",
       "<tr>\n",
       "  <th>Dep. Variable:</th>        <td>AAPL - rf</td>    <th>  R-squared:         </th> <td>   0.350</td> \n",
       "</tr>\n",
       "<tr>\n",
       "  <th>Model:</th>                   <td>OLS</td>       <th>  Adj. R-squared:    </th> <td>   0.348</td> \n",
       "</tr>\n",
       "<tr>\n",
       "  <th>Method:</th>             <td>Least Squares</td>  <th>  F-statistic:       </th> <td>   224.8</td> \n",
       "</tr>\n",
       "<tr>\n",
       "  <th>Date:</th>             <td>Thu, 05 Oct 2023</td> <th>  Prob (F-statistic):</th> <td>1.11e-116</td>\n",
       "</tr>\n",
       "<tr>\n",
       "  <th>Time:</th>                 <td>09:38:27</td>     <th>  Log-Likelihood:    </th> <td> -1951.3</td> \n",
       "</tr>\n",
       "<tr>\n",
       "  <th>No. Observations:</th>      <td>  1258</td>      <th>  AIC:               </th> <td>   3911.</td> \n",
       "</tr>\n",
       "<tr>\n",
       "  <th>Df Residuals:</th>          <td>  1254</td>      <th>  BIC:               </th> <td>   3931.</td> \n",
       "</tr>\n",
       "<tr>\n",
       "  <th>Df Model:</th>              <td>     3</td>      <th>                     </th>     <td> </td>    \n",
       "</tr>\n",
       "<tr>\n",
       "  <th>Covariance Type:</th>      <td>nonrobust</td>    <th>                     </th>     <td> </td>    \n",
       "</tr>\n",
       "</table>\n",
       "<table class=\"simpletable\">\n",
       "<tr>\n",
       "     <td></td>       <th>coef</th>     <th>std err</th>      <th>t</th>      <th>P>|t|</th>  <th>[0.025</th>    <th>0.975]</th>  \n",
       "</tr>\n",
       "<tr>\n",
       "  <th>const</th>  <td>    0.0491</td> <td>    0.032</td> <td>    1.519</td> <td> 0.129</td> <td>   -0.014</td> <td>    0.112</td>\n",
       "</tr>\n",
       "<tr>\n",
       "  <th>Mkt-RF</th> <td>    1.0091</td> <td>    0.041</td> <td>   24.502</td> <td> 0.000</td> <td>    0.928</td> <td>    1.090</td>\n",
       "</tr>\n",
       "<tr>\n",
       "  <th>SMB</th>    <td>   -0.2567</td> <td>    0.065</td> <td>   -3.923</td> <td> 0.000</td> <td>   -0.385</td> <td>   -0.128</td>\n",
       "</tr>\n",
       "<tr>\n",
       "  <th>HML</th>    <td>   -0.5526</td> <td>    0.067</td> <td>   -8.201</td> <td> 0.000</td> <td>   -0.685</td> <td>   -0.420</td>\n",
       "</tr>\n",
       "</table>\n",
       "<table class=\"simpletable\">\n",
       "<tr>\n",
       "  <th>Omnibus:</th>       <td>227.104</td> <th>  Durbin-Watson:     </th> <td>   1.961</td>\n",
       "</tr>\n",
       "<tr>\n",
       "  <th>Prob(Omnibus):</th> <td> 0.000</td>  <th>  Jarque-Bera (JB):  </th> <td>3618.842</td>\n",
       "</tr>\n",
       "<tr>\n",
       "  <th>Skew:</th>          <td> 0.318</td>  <th>  Prob(JB):          </th> <td>    0.00</td>\n",
       "</tr>\n",
       "<tr>\n",
       "  <th>Kurtosis:</th>      <td>11.285</td>  <th>  Cond. No.          </th> <td>    2.24</td>\n",
       "</tr>\n",
       "</table><br/><br/>Notes:<br/>[1] Standard Errors assume that the covariance matrix of the errors is correctly specified."
      ],
      "text/latex": [
       "\\begin{center}\n",
       "\\begin{tabular}{lclc}\n",
       "\\toprule\n",
       "\\textbf{Dep. Variable:}    &    AAPL - rf     & \\textbf{  R-squared:         } &     0.350   \\\\\n",
       "\\textbf{Model:}            &       OLS        & \\textbf{  Adj. R-squared:    } &     0.348   \\\\\n",
       "\\textbf{Method:}           &  Least Squares   & \\textbf{  F-statistic:       } &     224.8   \\\\\n",
       "\\textbf{Date:}             & Thu, 05 Oct 2023 & \\textbf{  Prob (F-statistic):} & 1.11e-116   \\\\\n",
       "\\textbf{Time:}             &     09:38:27     & \\textbf{  Log-Likelihood:    } &   -1951.3   \\\\\n",
       "\\textbf{No. Observations:} &        1258      & \\textbf{  AIC:               } &     3911.   \\\\\n",
       "\\textbf{Df Residuals:}     &        1254      & \\textbf{  BIC:               } &     3931.   \\\\\n",
       "\\textbf{Df Model:}         &           3      & \\textbf{                     } &             \\\\\n",
       "\\textbf{Covariance Type:}  &    nonrobust     & \\textbf{                     } &             \\\\\n",
       "\\bottomrule\n",
       "\\end{tabular}\n",
       "\\begin{tabular}{lcccccc}\n",
       "                & \\textbf{coef} & \\textbf{std err} & \\textbf{t} & \\textbf{P$> |$t$|$} & \\textbf{[0.025} & \\textbf{0.975]}  \\\\\n",
       "\\midrule\n",
       "\\textbf{const}  &       0.0491  &        0.032     &     1.519  &         0.129        &       -0.014    &        0.112     \\\\\n",
       "\\textbf{Mkt-RF} &       1.0091  &        0.041     &    24.502  &         0.000        &        0.928    &        1.090     \\\\\n",
       "\\textbf{SMB}    &      -0.2567  &        0.065     &    -3.923  &         0.000        &       -0.385    &       -0.128     \\\\\n",
       "\\textbf{HML}    &      -0.5526  &        0.067     &    -8.201  &         0.000        &       -0.685    &       -0.420     \\\\\n",
       "\\bottomrule\n",
       "\\end{tabular}\n",
       "\\begin{tabular}{lclc}\n",
       "\\textbf{Omnibus:}       & 227.104 & \\textbf{  Durbin-Watson:     } &    1.961  \\\\\n",
       "\\textbf{Prob(Omnibus):} &   0.000 & \\textbf{  Jarque-Bera (JB):  } & 3618.842  \\\\\n",
       "\\textbf{Skew:}          &   0.318 & \\textbf{  Prob(JB):          } &     0.00  \\\\\n",
       "\\textbf{Kurtosis:}      &  11.285 & \\textbf{  Cond. No.          } &     2.24  \\\\\n",
       "\\bottomrule\n",
       "\\end{tabular}\n",
       "%\\caption{OLS Regression Results}\n",
       "\\end{center}\n",
       "\n",
       "Notes: \\newline\n",
       " [1] Standard Errors assume that the covariance matrix of the errors is correctly specified."
      ],
      "text/plain": [
       "<class 'statsmodels.iolib.summary.Summary'>\n",
       "\"\"\"\n",
       "                            OLS Regression Results                            \n",
       "==============================================================================\n",
       "Dep. Variable:              AAPL - rf   R-squared:                       0.350\n",
       "Model:                            OLS   Adj. R-squared:                  0.348\n",
       "Method:                 Least Squares   F-statistic:                     224.8\n",
       "Date:                Thu, 05 Oct 2023   Prob (F-statistic):          1.11e-116\n",
       "Time:                        09:38:27   Log-Likelihood:                -1951.3\n",
       "No. Observations:                1258   AIC:                             3911.\n",
       "Df Residuals:                    1254   BIC:                             3931.\n",
       "Df Model:                           3                                         \n",
       "Covariance Type:            nonrobust                                         \n",
       "==============================================================================\n",
       "                 coef    std err          t      P>|t|      [0.025      0.975]\n",
       "------------------------------------------------------------------------------\n",
       "const          0.0491      0.032      1.519      0.129      -0.014       0.112\n",
       "Mkt-RF         1.0091      0.041     24.502      0.000       0.928       1.090\n",
       "SMB           -0.2567      0.065     -3.923      0.000      -0.385      -0.128\n",
       "HML           -0.5526      0.067     -8.201      0.000      -0.685      -0.420\n",
       "==============================================================================\n",
       "Omnibus:                      227.104   Durbin-Watson:                   1.961\n",
       "Prob(Omnibus):                  0.000   Jarque-Bera (JB):             3618.842\n",
       "Skew:                           0.318   Prob(JB):                         0.00\n",
       "Kurtosis:                      11.285   Cond. No.                         2.24\n",
       "==============================================================================\n",
       "\n",
       "Notes:\n",
       "[1] Standard Errors assume that the covariance matrix of the errors is correctly specified.\n",
       "\"\"\""
      ]
     },
     "execution_count": 23,
     "metadata": {},
     "output_type": "execute_result"
    }
   ],
   "source": [
    "# model = sm.OLS(data['AAPL - rf'], data[['Const','Mkt-RF','SMB','HML']])\n",
    "model = sm.OLS(data['AAPL - rf'], X)\n",
    "results = model.fit()\n",
    "results.summary()"
   ]
  }
 ],
 "metadata": {
  "kernelspec": {
   "display_name": "Python 3 (ipykernel)",
   "language": "python",
   "name": "python3"
  },
  "language_info": {
   "codemirror_mode": {
    "name": "ipython",
    "version": 3
   },
   "file_extension": ".py",
   "mimetype": "text/x-python",
   "name": "python",
   "nbconvert_exporter": "python",
   "pygments_lexer": "ipython3",
   "version": "3.8.10"
  }
 },
 "nbformat": 4,
 "nbformat_minor": 5
}
