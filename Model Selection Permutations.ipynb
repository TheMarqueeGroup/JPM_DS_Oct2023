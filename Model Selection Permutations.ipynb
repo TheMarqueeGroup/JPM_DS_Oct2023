{
 "cells": [
  {
   "cell_type": "markdown",
   "id": "a3498d99-8ac6-4d69-b75d-953c818d193e",
   "metadata": {},
   "source": [
    "# Running Different Permutations of Models\n",
    "- example below is using the car data set and the cros_val_score to test different Decision Tree models for different X-variables\n",
    "- first section is doing it manually, second section I've automated with a for loop\n",
    "- I've also automated looking at different scoring metrics"
   ]
  },
  {
   "cell_type": "code",
   "execution_count": 1,
   "id": "c4dcfdcf-7dc5-422d-a6d2-73b24a6763e6",
   "metadata": {},
   "outputs": [
    {
     "name": "stdout",
     "output_type": "stream",
     "text": [
      "H:\\jpmDesk\\Desktop\\DS Oct 2023\\Python Project\n"
     ]
    }
   ],
   "source": [
    "import os\n",
    "import numpy as np\n",
    "import pandas as pd\n",
    "import matplotlib.pyplot as plt\n",
    "import seaborn as sns\n",
    "from sklearn import tree\n",
    "from sklearn.metrics import classification_report\n",
    "from sklearn.metrics import roc_curve, auc\n",
    "from sklearn.model_selection import cross_val_score\n",
    "from sklearn.model_selection import train_test_split\n",
    "from sklearn.model_selection import (KFold, StratifiedKFold, GroupKFold)\n",
    "print(os.getcwd())"
   ]
  },
  {
   "cell_type": "code",
   "execution_count": 29,
   "id": "42817f3b-0317-4e0f-8b3a-175888da01d4",
   "metadata": {},
   "outputs": [],
   "source": [
    "df = pd.read_csv(\"ExData\\car_data.csv\")\n",
    "df.set_index([\"User ID\"], inplace=True)\n",
    "df = pd.concat([df, pd.get_dummies(df['Gender'])], axis=1)"
   ]
  },
  {
   "cell_type": "markdown",
   "id": "4d3220dc-c911-4afc-abe8-868e1937aca4",
   "metadata": {},
   "source": [
    "https://scikit-learn.org/stable/modules/model_evaluation.html"
   ]
  },
  {
   "cell_type": "code",
   "execution_count": 30,
   "id": "650c6a6f-46a3-4523-9df4-9ad24d41fdda",
   "metadata": {},
   "outputs": [
    {
     "data": {
      "text/plain": [
       "array([0.88 , 0.875, 0.905, 0.875, 0.87 ])"
      ]
     },
     "execution_count": 30,
     "metadata": {},
     "output_type": "execute_result"
    }
   ],
   "source": [
    "clf = tree.DecisionTreeClassifier(random_state=42)\n",
    "scores = cross_val_score(clf, df[['Age', 'AnnualSalary', 'Female']], df['Purchased'], cv=5)\n",
    "scores"
   ]
  },
  {
   "cell_type": "code",
   "execution_count": 31,
   "id": "2666db9e-30da-4fc9-931f-6a00dffb2695",
   "metadata": {},
   "outputs": [],
   "source": [
    "X = df[['Age', 'AnnualSalary', 'Female']]"
   ]
  },
  {
   "cell_type": "code",
   "execution_count": 32,
   "id": "43ce6413-4ef0-4f32-b909-67efc06cb307",
   "metadata": {},
   "outputs": [
    {
     "data": {
      "text/plain": [
       "array([0.81111111, 0.83950617, 0.8961039 , 0.84146341, 0.86666667])"
      ]
     },
     "execution_count": 32,
     "metadata": {},
     "output_type": "execute_result"
    }
   ],
   "source": [
    "cross_val_score(clf, X, df['Purchased'], cv=5, scoring='precision')"
   ]
  },
  {
   "cell_type": "code",
   "execution_count": 33,
   "id": "1c991d65-1312-4105-89e7-211a7691a1c4",
   "metadata": {},
   "outputs": [
    {
     "data": {
      "text/plain": [
       "array([0.9125    , 0.85      , 0.8625    , 0.85185185, 0.80246914])"
      ]
     },
     "execution_count": 33,
     "metadata": {},
     "output_type": "execute_result"
    }
   ],
   "source": [
    "cross_val_score(clf, X, df['Purchased'], cv=5, scoring='recall')"
   ]
  },
  {
   "cell_type": "code",
   "execution_count": 34,
   "id": "ffaef74d-b26b-4473-a2fe-9fb49de3645e",
   "metadata": {},
   "outputs": [
    {
     "data": {
      "text/plain": [
       "array([0.85882353, 0.8447205 , 0.87898089, 0.84662577, 0.83333333])"
      ]
     },
     "execution_count": 34,
     "metadata": {},
     "output_type": "execute_result"
    }
   ],
   "source": [
    "cross_val_score(clf, X, df['Purchased'], cv=5, scoring='f1')"
   ]
  },
  {
   "cell_type": "code",
   "execution_count": 35,
   "id": "62b49f36-7124-485c-8660-0961014f5078",
   "metadata": {},
   "outputs": [
    {
     "data": {
      "text/plain": [
       "array([0.88541667, 0.87083333, 0.89791667, 0.87130408, 0.85755784])"
      ]
     },
     "execution_count": 35,
     "metadata": {},
     "output_type": "execute_result"
    }
   ],
   "source": [
    "cross_val_score(clf, X, df['Purchased'], cv=5, scoring='roc_auc')"
   ]
  },
  {
   "cell_type": "code",
   "execution_count": 36,
   "id": "c95f4859-ab53-4008-8844-57d6805c2cf9",
   "metadata": {},
   "outputs": [
    {
     "data": {
      "text/html": [
       "<style>#sk-container-id-3 {color: black;}#sk-container-id-3 pre{padding: 0;}#sk-container-id-3 div.sk-toggleable {background-color: white;}#sk-container-id-3 label.sk-toggleable__label {cursor: pointer;display: block;width: 100%;margin-bottom: 0;padding: 0.3em;box-sizing: border-box;text-align: center;}#sk-container-id-3 label.sk-toggleable__label-arrow:before {content: \"▸\";float: left;margin-right: 0.25em;color: #696969;}#sk-container-id-3 label.sk-toggleable__label-arrow:hover:before {color: black;}#sk-container-id-3 div.sk-estimator:hover label.sk-toggleable__label-arrow:before {color: black;}#sk-container-id-3 div.sk-toggleable__content {max-height: 0;max-width: 0;overflow: hidden;text-align: left;background-color: #f0f8ff;}#sk-container-id-3 div.sk-toggleable__content pre {margin: 0.2em;color: black;border-radius: 0.25em;background-color: #f0f8ff;}#sk-container-id-3 input.sk-toggleable__control:checked~div.sk-toggleable__content {max-height: 200px;max-width: 100%;overflow: auto;}#sk-container-id-3 input.sk-toggleable__control:checked~label.sk-toggleable__label-arrow:before {content: \"▾\";}#sk-container-id-3 div.sk-estimator input.sk-toggleable__control:checked~label.sk-toggleable__label {background-color: #d4ebff;}#sk-container-id-3 div.sk-label input.sk-toggleable__control:checked~label.sk-toggleable__label {background-color: #d4ebff;}#sk-container-id-3 input.sk-hidden--visually {border: 0;clip: rect(1px 1px 1px 1px);clip: rect(1px, 1px, 1px, 1px);height: 1px;margin: -1px;overflow: hidden;padding: 0;position: absolute;width: 1px;}#sk-container-id-3 div.sk-estimator {font-family: monospace;background-color: #f0f8ff;border: 1px dotted black;border-radius: 0.25em;box-sizing: border-box;margin-bottom: 0.5em;}#sk-container-id-3 div.sk-estimator:hover {background-color: #d4ebff;}#sk-container-id-3 div.sk-parallel-item::after {content: \"\";width: 100%;border-bottom: 1px solid gray;flex-grow: 1;}#sk-container-id-3 div.sk-label:hover label.sk-toggleable__label {background-color: #d4ebff;}#sk-container-id-3 div.sk-serial::before {content: \"\";position: absolute;border-left: 1px solid gray;box-sizing: border-box;top: 0;bottom: 0;left: 50%;z-index: 0;}#sk-container-id-3 div.sk-serial {display: flex;flex-direction: column;align-items: center;background-color: white;padding-right: 0.2em;padding-left: 0.2em;position: relative;}#sk-container-id-3 div.sk-item {position: relative;z-index: 1;}#sk-container-id-3 div.sk-parallel {display: flex;align-items: stretch;justify-content: center;background-color: white;position: relative;}#sk-container-id-3 div.sk-item::before, #sk-container-id-3 div.sk-parallel-item::before {content: \"\";position: absolute;border-left: 1px solid gray;box-sizing: border-box;top: 0;bottom: 0;left: 50%;z-index: -1;}#sk-container-id-3 div.sk-parallel-item {display: flex;flex-direction: column;z-index: 1;position: relative;background-color: white;}#sk-container-id-3 div.sk-parallel-item:first-child::after {align-self: flex-end;width: 50%;}#sk-container-id-3 div.sk-parallel-item:last-child::after {align-self: flex-start;width: 50%;}#sk-container-id-3 div.sk-parallel-item:only-child::after {width: 0;}#sk-container-id-3 div.sk-dashed-wrapped {border: 1px dashed gray;margin: 0 0.4em 0.5em 0.4em;box-sizing: border-box;padding-bottom: 0.4em;background-color: white;}#sk-container-id-3 div.sk-label label {font-family: monospace;font-weight: bold;display: inline-block;line-height: 1.2em;}#sk-container-id-3 div.sk-label-container {text-align: center;}#sk-container-id-3 div.sk-container {/* jupyter's `normalize.less` sets `[hidden] { display: none; }` but bootstrap.min.css set `[hidden] { display: none !important; }` so we also need the `!important` here to be able to override the default hidden behavior on the sphinx rendered scikit-learn.org. See: https://github.com/scikit-learn/scikit-learn/issues/21755 */display: inline-block !important;position: relative;}#sk-container-id-3 div.sk-text-repr-fallback {display: none;}</style><div id=\"sk-container-id-3\" class=\"sk-top-container\"><div class=\"sk-text-repr-fallback\"><pre>DecisionTreeClassifier(random_state=42)</pre><b>In a Jupyter environment, please rerun this cell to show the HTML representation or trust the notebook. <br />On GitHub, the HTML representation is unable to render, please try loading this page with nbviewer.org.</b></div><div class=\"sk-container\" hidden><div class=\"sk-item\"><div class=\"sk-estimator sk-toggleable\"><input class=\"sk-toggleable__control sk-hidden--visually\" id=\"sk-estimator-id-3\" type=\"checkbox\" checked><label for=\"sk-estimator-id-3\" class=\"sk-toggleable__label sk-toggleable__label-arrow\">DecisionTreeClassifier</label><div class=\"sk-toggleable__content\"><pre>DecisionTreeClassifier(random_state=42)</pre></div></div></div></div></div>"
      ],
      "text/plain": [
       "DecisionTreeClassifier(random_state=42)"
      ]
     },
     "execution_count": 36,
     "metadata": {},
     "output_type": "execute_result"
    }
   ],
   "source": [
    "clf.fit(X, df['Purchased'])"
   ]
  },
  {
   "cell_type": "markdown",
   "id": "23e3b17e-1da3-45d5-9631-e10a4f51545e",
   "metadata": {},
   "source": [
    "# Permutate Models"
   ]
  },
  {
   "cell_type": "code",
   "execution_count": 56,
   "id": "13b56b2e-c26b-4722-aaa1-5cfb61fd7da8",
   "metadata": {},
   "outputs": [],
   "source": [
    "df = pd.read_csv(\"ExData\\car_data.csv\", index_col=['User ID'])\n",
    "df = pd.concat([df, pd.get_dummies(df['Gender'])], axis=1)"
   ]
  },
  {
   "cell_type": "code",
   "execution_count": null,
   "id": "f3c052c1-ace7-42ad-831f-c9dc28d5fce4",
   "metadata": {},
   "outputs": [],
   "source": []
  },
  {
   "cell_type": "code",
   "execution_count": 82,
   "id": "f37aa406-ec91-4cfb-98b3-81569f3cdb6f",
   "metadata": {},
   "outputs": [],
   "source": [
    "clf = tree.DecisionTreeClassifier(random_state=42)\n",
    "clf2 = clf = LogisticRegression(random_state=0)\n",
    "X1_cols = ['Age', 'AnnualSalary', 'Female'] #all cols\n",
    "X2_cols = ['Age', 'AnnualSalary']\n",
    "X3_cols = ['Age']\n",
    "X4_cols = ['AnnualSalary']\n",
    "allXs = [X1_cols, X2_cols, X3_cols, X4_cols]\n",
    "typesModels = [clf, clf2]\n",
    "\n",
    "y = df['Purchased']\n",
    "metrics = ['accuracy','recall','precision','f1','roc_auc']"
   ]
  },
  {
   "cell_type": "code",
   "execution_count": 83,
   "id": "16b65b90-78f4-4c63-b728-39a9d659dc20",
   "metadata": {},
   "outputs": [],
   "source": [
    "X_train, X_test, y_train, y_test = train_test_split(df[X1_cols], y, test_size=0.2, random_state=0)\n",
    "        #800 rows of testing, 200 of training"
   ]
  },
  {
   "cell_type": "code",
   "execution_count": 96,
   "id": "2222277e-4fec-49aa-aa1b-59de773f8069",
   "metadata": {},
   "outputs": [],
   "source": [
    "results = {}\n",
    "for metric in metrics:\n",
    "    models = []\n",
    "    for cols in allXs:   \n",
    "        scores = cross_val_score(clf, X_train[cols], y_train, cv=5, scoring=metric)\n",
    "                        #only using the 800 training rows, but does more splits \n",
    "                        #run 5 tests --> each test might be doing 100 test and 700 train\n",
    "        models.append({'Scores':scores,'Mean':scores.mean(),'STD':scores.std(),'Min':scores.min(),'Cols':cols})\n",
    "    resultsTable = pd.DataFrame(models)\n",
    "    results[metric] = resultsTable"
   ]
  },
  {
   "cell_type": "code",
   "execution_count": 85,
   "id": "4dea51c8-d460-4a72-9af4-a4b881ff6030",
   "metadata": {},
   "outputs": [
    {
     "data": {
      "text/html": [
       "<div>\n",
       "<style scoped>\n",
       "    .dataframe tbody tr th:only-of-type {\n",
       "        vertical-align: middle;\n",
       "    }\n",
       "\n",
       "    .dataframe tbody tr th {\n",
       "        vertical-align: top;\n",
       "    }\n",
       "\n",
       "    .dataframe thead th {\n",
       "        text-align: right;\n",
       "    }\n",
       "</style>\n",
       "<table border=\"1\" class=\"dataframe\">\n",
       "  <thead>\n",
       "    <tr style=\"text-align: right;\">\n",
       "      <th></th>\n",
       "      <th></th>\n",
       "      <th>Scores</th>\n",
       "      <th>Mean</th>\n",
       "      <th>STD</th>\n",
       "      <th>Min</th>\n",
       "      <th>Cols</th>\n",
       "    </tr>\n",
       "  </thead>\n",
       "  <tbody>\n",
       "    <tr>\n",
       "      <th rowspan=\"4\" valign=\"top\">accuracy</th>\n",
       "      <th>0</th>\n",
       "      <td>[0.80625, 0.91875, 0.88125, 0.85625, 0.85]</td>\n",
       "      <td>0.862500</td>\n",
       "      <td>0.037081</td>\n",
       "      <td>0.806250</td>\n",
       "      <td>[Age, AnnualSalary, Female]</td>\n",
       "    </tr>\n",
       "    <tr>\n",
       "      <th>1</th>\n",
       "      <td>[0.80625, 0.90625, 0.85625, 0.85, 0.84375]</td>\n",
       "      <td>0.852500</td>\n",
       "      <td>0.032016</td>\n",
       "      <td>0.806250</td>\n",
       "      <td>[Age, AnnualSalary]</td>\n",
       "    </tr>\n",
       "    <tr>\n",
       "      <th>2</th>\n",
       "      <td>[0.8, 0.85, 0.76875, 0.83125, 0.8375]</td>\n",
       "      <td>0.817500</td>\n",
       "      <td>0.029422</td>\n",
       "      <td>0.768750</td>\n",
       "      <td>[Age]</td>\n",
       "    </tr>\n",
       "    <tr>\n",
       "      <th>3</th>\n",
       "      <td>[0.70625, 0.71875, 0.70625, 0.73125, 0.7125]</td>\n",
       "      <td>0.715000</td>\n",
       "      <td>0.009354</td>\n",
       "      <td>0.706250</td>\n",
       "      <td>[AnnualSalary]</td>\n",
       "    </tr>\n",
       "    <tr>\n",
       "      <th rowspan=\"4\" valign=\"top\">recall</th>\n",
       "      <th>0</th>\n",
       "      <td>[0.71875, 0.859375, 0.8153846153846154, 0.8461...</td>\n",
       "      <td>0.817163</td>\n",
       "      <td>0.051286</td>\n",
       "      <td>0.718750</td>\n",
       "      <td>[Age, AnnualSalary, Female]</td>\n",
       "    </tr>\n",
       "    <tr>\n",
       "      <th>1</th>\n",
       "      <td>[0.765625, 0.859375, 0.7846153846153846, 0.784...</td>\n",
       "      <td>0.801923</td>\n",
       "      <td>0.032859</td>\n",
       "      <td>0.765625</td>\n",
       "      <td>[Age, AnnualSalary]</td>\n",
       "    </tr>\n",
       "    <tr>\n",
       "      <th>2</th>\n",
       "      <td>[0.671875, 0.71875, 0.5846153846153846, 0.7230...</td>\n",
       "      <td>0.693510</td>\n",
       "      <td>0.062564</td>\n",
       "      <td>0.584615</td>\n",
       "      <td>[Age]</td>\n",
       "    </tr>\n",
       "    <tr>\n",
       "      <th>3</th>\n",
       "      <td>[0.546875, 0.53125, 0.5076923076923077, 0.5230...</td>\n",
       "      <td>0.544856</td>\n",
       "      <td>0.037467</td>\n",
       "      <td>0.507692</td>\n",
       "      <td>[AnnualSalary]</td>\n",
       "    </tr>\n",
       "    <tr>\n",
       "      <th rowspan=\"4\" valign=\"top\">precision</th>\n",
       "      <th>0</th>\n",
       "      <td>[0.7796610169491526, 0.9322033898305084, 0.883...</td>\n",
       "      <td>0.840225</td>\n",
       "      <td>0.058021</td>\n",
       "      <td>0.779661</td>\n",
       "      <td>[Age, AnnualSalary, Female]</td>\n",
       "    </tr>\n",
       "    <tr>\n",
       "      <th>1</th>\n",
       "      <td>[0.7538461538461538, 0.9016393442622951, 0.85,...</td>\n",
       "      <td>0.828916</td>\n",
       "      <td>0.049173</td>\n",
       "      <td>0.753846</td>\n",
       "      <td>[Age, AnnualSalary]</td>\n",
       "    </tr>\n",
       "    <tr>\n",
       "      <th>2</th>\n",
       "      <td>[0.7962962962962963, 0.8846153846153846, 0.791...</td>\n",
       "      <td>0.826307</td>\n",
       "      <td>0.033802</td>\n",
       "      <td>0.791667</td>\n",
       "      <td>[Age]</td>\n",
       "    </tr>\n",
       "    <tr>\n",
       "      <th>3</th>\n",
       "      <td>[0.660377358490566, 0.6938775510204082, 0.6875...</td>\n",
       "      <td>0.687325</td>\n",
       "      <td>0.029835</td>\n",
       "      <td>0.655738</td>\n",
       "      <td>[AnnualSalary]</td>\n",
       "    </tr>\n",
       "    <tr>\n",
       "      <th rowspan=\"4\" valign=\"top\">f1</th>\n",
       "      <th>0</th>\n",
       "      <td>[0.7479674796747967, 0.8943089430894309, 0.848...</td>\n",
       "      <td>0.827648</td>\n",
       "      <td>0.047440</td>\n",
       "      <td>0.747967</td>\n",
       "      <td>[Age, AnnualSalary, Female]</td>\n",
       "    </tr>\n",
       "    <tr>\n",
       "      <th>1</th>\n",
       "      <td>[0.7596899224806202, 0.88, 0.816, 0.8095238095...</td>\n",
       "      <td>0.814875</td>\n",
       "      <td>0.038339</td>\n",
       "      <td>0.759690</td>\n",
       "      <td>[Age, AnnualSalary]</td>\n",
       "    </tr>\n",
       "    <tr>\n",
       "      <th>2</th>\n",
       "      <td>[0.728813559322034, 0.7931034482758621, 0.6725...</td>\n",
       "      <td>0.752999</td>\n",
       "      <td>0.046657</td>\n",
       "      <td>0.672566</td>\n",
       "      <td>[Age]</td>\n",
       "    </tr>\n",
       "    <tr>\n",
       "      <th>3</th>\n",
       "      <td>[0.5982905982905983, 0.6017699115044248, 0.584...</td>\n",
       "      <td>0.606333</td>\n",
       "      <td>0.016958</td>\n",
       "      <td>0.584071</td>\n",
       "      <td>[AnnualSalary]</td>\n",
       "    </tr>\n",
       "    <tr>\n",
       "      <th rowspan=\"4\" valign=\"top\">roc_auc</th>\n",
       "      <th>0</th>\n",
       "      <td>[0.7916666666666667, 0.9081217447916666, 0.870...</td>\n",
       "      <td>0.856087</td>\n",
       "      <td>0.037631</td>\n",
       "      <td>0.791667</td>\n",
       "      <td>[Age, AnnualSalary, Female]</td>\n",
       "    </tr>\n",
       "    <tr>\n",
       "      <th>1</th>\n",
       "      <td>[0.7994791666666667, 0.8984375, 0.842672064777...</td>\n",
       "      <td>0.843033</td>\n",
       "      <td>0.031733</td>\n",
       "      <td>0.799479</td>\n",
       "      <td>[Age, AnnualSalary]</td>\n",
       "    </tr>\n",
       "    <tr>\n",
       "      <th>2</th>\n",
       "      <td>[0.8541666666666666, 0.8712565104166667, 0.761...</td>\n",
       "      <td>0.845927</td>\n",
       "      <td>0.042847</td>\n",
       "      <td>0.761943</td>\n",
       "      <td>[Age]</td>\n",
       "    </tr>\n",
       "    <tr>\n",
       "      <th>3</th>\n",
       "      <td>[0.724609375, 0.74169921875, 0.704777327935222...</td>\n",
       "      <td>0.727529</td>\n",
       "      <td>0.013276</td>\n",
       "      <td>0.704777</td>\n",
       "      <td>[AnnualSalary]</td>\n",
       "    </tr>\n",
       "  </tbody>\n",
       "</table>\n",
       "</div>"
      ],
      "text/plain": [
       "                                                        Scores      Mean  \\\n",
       "accuracy  0         [0.80625, 0.91875, 0.88125, 0.85625, 0.85]  0.862500   \n",
       "          1         [0.80625, 0.90625, 0.85625, 0.85, 0.84375]  0.852500   \n",
       "          2              [0.8, 0.85, 0.76875, 0.83125, 0.8375]  0.817500   \n",
       "          3       [0.70625, 0.71875, 0.70625, 0.73125, 0.7125]  0.715000   \n",
       "recall    0  [0.71875, 0.859375, 0.8153846153846154, 0.8461...  0.817163   \n",
       "          1  [0.765625, 0.859375, 0.7846153846153846, 0.784...  0.801923   \n",
       "          2  [0.671875, 0.71875, 0.5846153846153846, 0.7230...  0.693510   \n",
       "          3  [0.546875, 0.53125, 0.5076923076923077, 0.5230...  0.544856   \n",
       "precision 0  [0.7796610169491526, 0.9322033898305084, 0.883...  0.840225   \n",
       "          1  [0.7538461538461538, 0.9016393442622951, 0.85,...  0.828916   \n",
       "          2  [0.7962962962962963, 0.8846153846153846, 0.791...  0.826307   \n",
       "          3  [0.660377358490566, 0.6938775510204082, 0.6875...  0.687325   \n",
       "f1        0  [0.7479674796747967, 0.8943089430894309, 0.848...  0.827648   \n",
       "          1  [0.7596899224806202, 0.88, 0.816, 0.8095238095...  0.814875   \n",
       "          2  [0.728813559322034, 0.7931034482758621, 0.6725...  0.752999   \n",
       "          3  [0.5982905982905983, 0.6017699115044248, 0.584...  0.606333   \n",
       "roc_auc   0  [0.7916666666666667, 0.9081217447916666, 0.870...  0.856087   \n",
       "          1  [0.7994791666666667, 0.8984375, 0.842672064777...  0.843033   \n",
       "          2  [0.8541666666666666, 0.8712565104166667, 0.761...  0.845927   \n",
       "          3  [0.724609375, 0.74169921875, 0.704777327935222...  0.727529   \n",
       "\n",
       "                  STD       Min                         Cols  \n",
       "accuracy  0  0.037081  0.806250  [Age, AnnualSalary, Female]  \n",
       "          1  0.032016  0.806250          [Age, AnnualSalary]  \n",
       "          2  0.029422  0.768750                        [Age]  \n",
       "          3  0.009354  0.706250               [AnnualSalary]  \n",
       "recall    0  0.051286  0.718750  [Age, AnnualSalary, Female]  \n",
       "          1  0.032859  0.765625          [Age, AnnualSalary]  \n",
       "          2  0.062564  0.584615                        [Age]  \n",
       "          3  0.037467  0.507692               [AnnualSalary]  \n",
       "precision 0  0.058021  0.779661  [Age, AnnualSalary, Female]  \n",
       "          1  0.049173  0.753846          [Age, AnnualSalary]  \n",
       "          2  0.033802  0.791667                        [Age]  \n",
       "          3  0.029835  0.655738               [AnnualSalary]  \n",
       "f1        0  0.047440  0.747967  [Age, AnnualSalary, Female]  \n",
       "          1  0.038339  0.759690          [Age, AnnualSalary]  \n",
       "          2  0.046657  0.672566                        [Age]  \n",
       "          3  0.016958  0.584071               [AnnualSalary]  \n",
       "roc_auc   0  0.037631  0.791667  [Age, AnnualSalary, Female]  \n",
       "          1  0.031733  0.799479          [Age, AnnualSalary]  \n",
       "          2  0.042847  0.761943                        [Age]  \n",
       "          3  0.013276  0.704777               [AnnualSalary]  "
      ]
     },
     "execution_count": 85,
     "metadata": {},
     "output_type": "execute_result"
    }
   ],
   "source": [
    "pd.concat(results)"
   ]
  },
  {
   "cell_type": "code",
   "execution_count": 93,
   "id": "ef046b5c-0bca-44cf-82fb-c26ec095065b",
   "metadata": {},
   "outputs": [
    {
     "data": {
      "text/html": [
       "<style>#sk-container-id-5 {color: black;}#sk-container-id-5 pre{padding: 0;}#sk-container-id-5 div.sk-toggleable {background-color: white;}#sk-container-id-5 label.sk-toggleable__label {cursor: pointer;display: block;width: 100%;margin-bottom: 0;padding: 0.3em;box-sizing: border-box;text-align: center;}#sk-container-id-5 label.sk-toggleable__label-arrow:before {content: \"▸\";float: left;margin-right: 0.25em;color: #696969;}#sk-container-id-5 label.sk-toggleable__label-arrow:hover:before {color: black;}#sk-container-id-5 div.sk-estimator:hover label.sk-toggleable__label-arrow:before {color: black;}#sk-container-id-5 div.sk-toggleable__content {max-height: 0;max-width: 0;overflow: hidden;text-align: left;background-color: #f0f8ff;}#sk-container-id-5 div.sk-toggleable__content pre {margin: 0.2em;color: black;border-radius: 0.25em;background-color: #f0f8ff;}#sk-container-id-5 input.sk-toggleable__control:checked~div.sk-toggleable__content {max-height: 200px;max-width: 100%;overflow: auto;}#sk-container-id-5 input.sk-toggleable__control:checked~label.sk-toggleable__label-arrow:before {content: \"▾\";}#sk-container-id-5 div.sk-estimator input.sk-toggleable__control:checked~label.sk-toggleable__label {background-color: #d4ebff;}#sk-container-id-5 div.sk-label input.sk-toggleable__control:checked~label.sk-toggleable__label {background-color: #d4ebff;}#sk-container-id-5 input.sk-hidden--visually {border: 0;clip: rect(1px 1px 1px 1px);clip: rect(1px, 1px, 1px, 1px);height: 1px;margin: -1px;overflow: hidden;padding: 0;position: absolute;width: 1px;}#sk-container-id-5 div.sk-estimator {font-family: monospace;background-color: #f0f8ff;border: 1px dotted black;border-radius: 0.25em;box-sizing: border-box;margin-bottom: 0.5em;}#sk-container-id-5 div.sk-estimator:hover {background-color: #d4ebff;}#sk-container-id-5 div.sk-parallel-item::after {content: \"\";width: 100%;border-bottom: 1px solid gray;flex-grow: 1;}#sk-container-id-5 div.sk-label:hover label.sk-toggleable__label {background-color: #d4ebff;}#sk-container-id-5 div.sk-serial::before {content: \"\";position: absolute;border-left: 1px solid gray;box-sizing: border-box;top: 0;bottom: 0;left: 50%;z-index: 0;}#sk-container-id-5 div.sk-serial {display: flex;flex-direction: column;align-items: center;background-color: white;padding-right: 0.2em;padding-left: 0.2em;position: relative;}#sk-container-id-5 div.sk-item {position: relative;z-index: 1;}#sk-container-id-5 div.sk-parallel {display: flex;align-items: stretch;justify-content: center;background-color: white;position: relative;}#sk-container-id-5 div.sk-item::before, #sk-container-id-5 div.sk-parallel-item::before {content: \"\";position: absolute;border-left: 1px solid gray;box-sizing: border-box;top: 0;bottom: 0;left: 50%;z-index: -1;}#sk-container-id-5 div.sk-parallel-item {display: flex;flex-direction: column;z-index: 1;position: relative;background-color: white;}#sk-container-id-5 div.sk-parallel-item:first-child::after {align-self: flex-end;width: 50%;}#sk-container-id-5 div.sk-parallel-item:last-child::after {align-self: flex-start;width: 50%;}#sk-container-id-5 div.sk-parallel-item:only-child::after {width: 0;}#sk-container-id-5 div.sk-dashed-wrapped {border: 1px dashed gray;margin: 0 0.4em 0.5em 0.4em;box-sizing: border-box;padding-bottom: 0.4em;background-color: white;}#sk-container-id-5 div.sk-label label {font-family: monospace;font-weight: bold;display: inline-block;line-height: 1.2em;}#sk-container-id-5 div.sk-label-container {text-align: center;}#sk-container-id-5 div.sk-container {/* jupyter's `normalize.less` sets `[hidden] { display: none; }` but bootstrap.min.css set `[hidden] { display: none !important; }` so we also need the `!important` here to be able to override the default hidden behavior on the sphinx rendered scikit-learn.org. See: https://github.com/scikit-learn/scikit-learn/issues/21755 */display: inline-block !important;position: relative;}#sk-container-id-5 div.sk-text-repr-fallback {display: none;}</style><div id=\"sk-container-id-5\" class=\"sk-top-container\"><div class=\"sk-text-repr-fallback\"><pre>DecisionTreeClassifier(random_state=42)</pre><b>In a Jupyter environment, please rerun this cell to show the HTML representation or trust the notebook. <br />On GitHub, the HTML representation is unable to render, please try loading this page with nbviewer.org.</b></div><div class=\"sk-container\" hidden><div class=\"sk-item\"><div class=\"sk-estimator sk-toggleable\"><input class=\"sk-toggleable__control sk-hidden--visually\" id=\"sk-estimator-id-5\" type=\"checkbox\" checked><label for=\"sk-estimator-id-5\" class=\"sk-toggleable__label sk-toggleable__label-arrow\">DecisionTreeClassifier</label><div class=\"sk-toggleable__content\"><pre>DecisionTreeClassifier(random_state=42)</pre></div></div></div></div></div>"
      ],
      "text/plain": [
       "DecisionTreeClassifier(random_state=42)"
      ]
     },
     "execution_count": 93,
     "metadata": {},
     "output_type": "execute_result"
    }
   ],
   "source": [
    "#Final Model\n",
    "finalX = X_train[['Age', 'AnnualSalary']]\n",
    "clf.fit(finalX, y_train)"
   ]
  },
  {
   "cell_type": "code",
   "execution_count": 94,
   "id": "5b37263a-84ba-43ff-a30d-2997aa922f40",
   "metadata": {},
   "outputs": [
    {
     "data": {
      "text/plain": [
       "0.9925"
      ]
     },
     "execution_count": 94,
     "metadata": {},
     "output_type": "execute_result"
    }
   ],
   "source": [
    "clf.score(finalX, y_train)"
   ]
  },
  {
   "cell_type": "code",
   "execution_count": 95,
   "id": "7ff75396-273e-4bc6-b38c-7bb1064ee1e0",
   "metadata": {},
   "outputs": [
    {
     "data": {
      "text/plain": [
       "0.905"
      ]
     },
     "execution_count": 95,
     "metadata": {},
     "output_type": "execute_result"
    }
   ],
   "source": [
    "clf.score(X_test[['Age', 'AnnualSalary']],y_test)"
   ]
  },
  {
   "cell_type": "code",
   "execution_count": 86,
   "id": "fc32561d-22f3-4f2f-abc4-60a58045e377",
   "metadata": {},
   "outputs": [],
   "source": [
    "from sklearn.model_selection import cross_validate"
   ]
  },
  {
   "cell_type": "code",
   "execution_count": 88,
   "id": "7dc59886-c952-4783-a84f-9fac582defbd",
   "metadata": {},
   "outputs": [
    {
     "data": {
      "text/plain": [
       "{'fit_time': array([0.00400209, 0.004498  , 0.00400019, 0.00600338, 0.00400543]),\n",
       " 'score_time': array([0.01351666, 0.01251268, 0.0150032 , 0.01399398, 0.01199627]),\n",
       " 'test_accuracy': array([0.80625, 0.91875, 0.88125, 0.85625, 0.85   ]),\n",
       " 'test_recall': array([0.71875   , 0.859375  , 0.81538462, 0.84615385, 0.84615385]),\n",
       " 'test_precision': array([0.77966102, 0.93220339, 0.88333333, 0.80882353, 0.79710145]),\n",
       " 'test_f1': array([0.74796748, 0.89430894, 0.848     , 0.82706767, 0.82089552]),\n",
       " 'test_roc_auc': array([0.79166667, 0.90812174, 0.8708502 , 0.85384615, 0.85595142])}"
      ]
     },
     "execution_count": 88,
     "metadata": {},
     "output_type": "execute_result"
    }
   ],
   "source": [
    "scoring = ['accuracy','recall','precision', 'f1','roc_auc']\n",
    "scores = cross_validate(clf, X_train[X1_cols], y_train, scoring=scoring)\n",
    "scores"
   ]
  },
  {
   "cell_type": "code",
   "execution_count": null,
   "id": "59dc7bbd-cefa-45a1-bb90-fca9f1a3e1d0",
   "metadata": {},
   "outputs": [],
   "source": []
  }
 ],
 "metadata": {
  "kernelspec": {
   "display_name": "Python 3 (ipykernel)",
   "language": "python",
   "name": "python3"
  },
  "language_info": {
   "codemirror_mode": {
    "name": "ipython",
    "version": 3
   },
   "file_extension": ".py",
   "mimetype": "text/x-python",
   "name": "python",
   "nbconvert_exporter": "python",
   "pygments_lexer": "ipython3",
   "version": "3.8.10"
  }
 },
 "nbformat": 4,
 "nbformat_minor": 5
}
