{
 "cells": [
  {
   "cell_type": "markdown",
   "id": "9cf5c705-366a-496c-a4b0-b02b1636db9b",
   "metadata": {},
   "source": [
    "# Day 4 - Data Science Essentials Program\n",
    "\n",
    "**Agenda:**\n",
    "- Model selection\n",
    "- Cross validation\n",
    "- CV with groups\n",
    "\n",
    "**Before we get started:**\n",
    "- open the `ModelSelection.ipynb` file\n",
    "- import the packages at the top of the file\n",
    "- can also open up presentation to slide 84"
   ]
  },
  {
   "cell_type": "code",
   "execution_count": 1,
   "id": "c7072ba9-8ef6-4c43-965e-dc1ec9737cec",
   "metadata": {},
   "outputs": [],
   "source": [
    "import numpy as np\n",
    "import pandas as pd\n",
    "import matplotlib.pyplot as plt\n",
    "import seaborn as sns\n",
    "from sklearn import tree\n",
    "from sklearn.metrics import classification_report\n",
    "from sklearn.metrics import roc_curve, auc\n",
    "from sklearn.model_selection import cross_val_score\n",
    "from sklearn.model_selection import train_test_split\n",
    "from sklearn.model_selection import (KFold, StratifiedKFold, GroupKFold)"
   ]
  },
  {
   "cell_type": "code",
   "execution_count": 4,
   "id": "9b5cea0b-34d2-4c63-a461-fafb2c856db2",
   "metadata": {},
   "outputs": [],
   "source": [
    "df = pd.read_csv(\"ExData\\car_data.csv\", index_col=['User ID'])\n",
    "df = pd.concat([df, pd.get_dummies(df['Gender'], dtype=int)], axis=1)"
   ]
  },
  {
   "cell_type": "markdown",
   "id": "a3bb509f-ce43-4c3b-bf5e-dce754e67d05",
   "metadata": {},
   "source": [
    "## Cross Validation Scores\n",
    "- `cross_val_score(model, X, y, cv=number of tests, scoring=metric)`\n",
    "    - if model is a classifier, by default it will do a StratifiedKFold --> will maintain proportions of yes/no or 1/0\n",
    "    - default \"scoring metric\" for classifiers is \"accuracy\" (but can change to precision, or recall or something else)\n",
    "    - https://scikit-learn.org/stable/modules/model_evaluation.html"
   ]
  },
  {
   "cell_type": "code",
   "execution_count": 13,
   "id": "5afed30d-0b1c-45b9-9809-1d7836edeefd",
   "metadata": {},
   "outputs": [
    {
     "data": {
      "text/plain": [
       "(array([0.845, 0.855, 0.89 , 0.855, 0.845]),\n",
       " 0.858,\n",
       " 0.016613247725836167,\n",
       " 0.845)"
      ]
     },
     "execution_count": 13,
     "metadata": {},
     "output_type": "execute_result"
    }
   ],
   "source": [
    "clf = tree.DecisionTreeClassifier(random_state=42)\n",
    "X = df[['AnnualSalary','Age']]\n",
    "y = df['Purchased']\n",
    "scores = cross_val_score(clf, X, y, cv=5)\n",
    "scores, scores.mean(), scores.std(), scores.min() #accuracy scores of the 5 tests after it was trained 5 times"
   ]
  },
  {
   "cell_type": "code",
   "execution_count": 11,
   "id": "cc1c33d0-4afd-46cc-9c66-80e24ec9bfbd",
   "metadata": {},
   "outputs": [
    {
     "data": {
      "text/plain": [
       "array([0.76923077, 0.82278481, 0.8625    , 0.83333333, 0.82894737])"
      ]
     },
     "execution_count": 11,
     "metadata": {},
     "output_type": "execute_result"
    }
   ],
   "source": [
    "scores = cross_val_score(clf, X, y, cv=5, scoring='precision') #precision, recall, f1, \n",
    "scores"
   ]
  },
  {
   "cell_type": "code",
   "execution_count": 14,
   "id": "700c2f6d-4bd0-41b5-909a-3bedd12be21e",
   "metadata": {},
   "outputs": [
    {
     "data": {
      "text/plain": [
       "(array([0.71 , 0.735, 0.725, 0.775, 0.75 ]), 0.739, 0.022226110770892885, 0.71)"
      ]
     },
     "execution_count": 14,
     "metadata": {},
     "output_type": "execute_result"
    }
   ],
   "source": [
    "X2 = df[['AnnualSalary']]\n",
    "scores = cross_val_score(clf, X2, y, cv=5)\n",
    "scores, scores.mean(), scores.std(), scores.min()"
   ]
  },
  {
   "cell_type": "markdown",
   "id": "4f28e165-f28b-4e35-a025-8668e4039fdd",
   "metadata": {},
   "source": [
    "# Train/Test Split the Data\n",
    "- before running the cross validation score, split your data first into train/test\n",
    "- run the cross_val_score on JUST the TRAIN data for diff permutations of X variables and models\n",
    "- pick the best model based off the cross val scores, then re-train with ALL train data\n",
    "- then do a final test with TEST data"
   ]
  },
  {
   "cell_type": "code",
   "execution_count": 15,
   "id": "835af3aa-b75b-4fdb-9446-fb21cbf641f8",
   "metadata": {},
   "outputs": [],
   "source": [
    "X_train, X_test, y_train, y_test = train_test_split(df[['Age', 'AnnualSalary', 'Female']], df['Purchased'], test_size=0.2, random_state=0)"
   ]
  },
  {
   "cell_type": "code",
   "execution_count": 19,
   "id": "a4ad48f2-5c58-40a4-b4f7-1348facd1955",
   "metadata": {},
   "outputs": [
    {
     "data": {
      "text/plain": [
       "(array([0.80625, 0.90625, 0.85625, 0.85   , 0.84375]),\n",
       " 0.8524999999999998,\n",
       " 0.03201562118716424,\n",
       " 0.80625)"
      ]
     },
     "execution_count": 19,
     "metadata": {},
     "output_type": "execute_result"
    }
   ],
   "source": [
    "scores = cross_val_score(clf, X_train[['Age','AnnualSalary']], y_train, cv=5, scoring='accuracy')\n",
    "scores, scores.mean(), scores.std(), scores.min()"
   ]
  },
  {
   "cell_type": "code",
   "execution_count": 20,
   "id": "7ace7732-a1b9-48cf-ae4a-5fefa0c0e37a",
   "metadata": {},
   "outputs": [
    {
     "data": {
      "text/plain": [
       "(array([0.8    , 0.85   , 0.76875, 0.83125, 0.8375 ]),\n",
       " 0.8175000000000001,\n",
       " 0.029421505739849533,\n",
       " 0.76875)"
      ]
     },
     "execution_count": 20,
     "metadata": {},
     "output_type": "execute_result"
    }
   ],
   "source": [
    "scores = cross_val_score(clf, X_train[['Age']], y_train, cv=5, scoring='accuracy')\n",
    "scores, scores.mean(), scores.std(), scores.min()"
   ]
  },
  {
   "cell_type": "code",
   "execution_count": 21,
   "id": "05cdf8ad-4f3d-465d-881d-7cfa482b40f9",
   "metadata": {},
   "outputs": [
    {
     "data": {
      "text/plain": [
       "(array([0.70625, 0.71875, 0.70625, 0.73125, 0.7125 ]),\n",
       " 0.715,\n",
       " 0.00935414346693482,\n",
       " 0.70625)"
      ]
     },
     "execution_count": 21,
     "metadata": {},
     "output_type": "execute_result"
    }
   ],
   "source": [
    "scores = cross_val_score(clf, X_train[['AnnualSalary']], y_train, cv=5, scoring='accuracy')\n",
    "scores, scores.mean(), scores.std(), scores.min()"
   ]
  },
  {
   "cell_type": "code",
   "execution_count": 22,
   "id": "18a2468e-7849-4d3d-a5a6-f243d85c018a",
   "metadata": {},
   "outputs": [
    {
     "data": {
      "text/plain": [
       "(array([0.80625, 0.91875, 0.88125, 0.85625, 0.85   ]),\n",
       " 0.8625,\n",
       " 0.03708099243547829,\n",
       " 0.80625)"
      ]
     },
     "execution_count": 22,
     "metadata": {},
     "output_type": "execute_result"
    }
   ],
   "source": [
    "scores = cross_val_score(clf, X_train, y_train, cv=5, scoring='accuracy')\n",
    "scores, scores.mean(), scores.std(), scores.min()"
   ]
  },
  {
   "cell_type": "markdown",
   "id": "7a38f6f5-3fb7-4666-8806-aba87397231c",
   "metadata": {},
   "source": [
    "**Pick the best model and re-train with all data**"
   ]
  },
  {
   "cell_type": "code",
   "execution_count": 24,
   "id": "ecc99287-b88b-4776-99ff-0a3f0905b3db",
   "metadata": {},
   "outputs": [
    {
     "data": {
      "text/html": [
       "<style>#sk-container-id-1 {color: black;}#sk-container-id-1 pre{padding: 0;}#sk-container-id-1 div.sk-toggleable {background-color: white;}#sk-container-id-1 label.sk-toggleable__label {cursor: pointer;display: block;width: 100%;margin-bottom: 0;padding: 0.3em;box-sizing: border-box;text-align: center;}#sk-container-id-1 label.sk-toggleable__label-arrow:before {content: \"▸\";float: left;margin-right: 0.25em;color: #696969;}#sk-container-id-1 label.sk-toggleable__label-arrow:hover:before {color: black;}#sk-container-id-1 div.sk-estimator:hover label.sk-toggleable__label-arrow:before {color: black;}#sk-container-id-1 div.sk-toggleable__content {max-height: 0;max-width: 0;overflow: hidden;text-align: left;background-color: #f0f8ff;}#sk-container-id-1 div.sk-toggleable__content pre {margin: 0.2em;color: black;border-radius: 0.25em;background-color: #f0f8ff;}#sk-container-id-1 input.sk-toggleable__control:checked~div.sk-toggleable__content {max-height: 200px;max-width: 100%;overflow: auto;}#sk-container-id-1 input.sk-toggleable__control:checked~label.sk-toggleable__label-arrow:before {content: \"▾\";}#sk-container-id-1 div.sk-estimator input.sk-toggleable__control:checked~label.sk-toggleable__label {background-color: #d4ebff;}#sk-container-id-1 div.sk-label input.sk-toggleable__control:checked~label.sk-toggleable__label {background-color: #d4ebff;}#sk-container-id-1 input.sk-hidden--visually {border: 0;clip: rect(1px 1px 1px 1px);clip: rect(1px, 1px, 1px, 1px);height: 1px;margin: -1px;overflow: hidden;padding: 0;position: absolute;width: 1px;}#sk-container-id-1 div.sk-estimator {font-family: monospace;background-color: #f0f8ff;border: 1px dotted black;border-radius: 0.25em;box-sizing: border-box;margin-bottom: 0.5em;}#sk-container-id-1 div.sk-estimator:hover {background-color: #d4ebff;}#sk-container-id-1 div.sk-parallel-item::after {content: \"\";width: 100%;border-bottom: 1px solid gray;flex-grow: 1;}#sk-container-id-1 div.sk-label:hover label.sk-toggleable__label {background-color: #d4ebff;}#sk-container-id-1 div.sk-serial::before {content: \"\";position: absolute;border-left: 1px solid gray;box-sizing: border-box;top: 0;bottom: 0;left: 50%;z-index: 0;}#sk-container-id-1 div.sk-serial {display: flex;flex-direction: column;align-items: center;background-color: white;padding-right: 0.2em;padding-left: 0.2em;position: relative;}#sk-container-id-1 div.sk-item {position: relative;z-index: 1;}#sk-container-id-1 div.sk-parallel {display: flex;align-items: stretch;justify-content: center;background-color: white;position: relative;}#sk-container-id-1 div.sk-item::before, #sk-container-id-1 div.sk-parallel-item::before {content: \"\";position: absolute;border-left: 1px solid gray;box-sizing: border-box;top: 0;bottom: 0;left: 50%;z-index: -1;}#sk-container-id-1 div.sk-parallel-item {display: flex;flex-direction: column;z-index: 1;position: relative;background-color: white;}#sk-container-id-1 div.sk-parallel-item:first-child::after {align-self: flex-end;width: 50%;}#sk-container-id-1 div.sk-parallel-item:last-child::after {align-self: flex-start;width: 50%;}#sk-container-id-1 div.sk-parallel-item:only-child::after {width: 0;}#sk-container-id-1 div.sk-dashed-wrapped {border: 1px dashed gray;margin: 0 0.4em 0.5em 0.4em;box-sizing: border-box;padding-bottom: 0.4em;background-color: white;}#sk-container-id-1 div.sk-label label {font-family: monospace;font-weight: bold;display: inline-block;line-height: 1.2em;}#sk-container-id-1 div.sk-label-container {text-align: center;}#sk-container-id-1 div.sk-container {/* jupyter's `normalize.less` sets `[hidden] { display: none; }` but bootstrap.min.css set `[hidden] { display: none !important; }` so we also need the `!important` here to be able to override the default hidden behavior on the sphinx rendered scikit-learn.org. See: https://github.com/scikit-learn/scikit-learn/issues/21755 */display: inline-block !important;position: relative;}#sk-container-id-1 div.sk-text-repr-fallback {display: none;}</style><div id=\"sk-container-id-1\" class=\"sk-top-container\"><div class=\"sk-text-repr-fallback\"><pre>DecisionTreeClassifier(random_state=42)</pre><b>In a Jupyter environment, please rerun this cell to show the HTML representation or trust the notebook. <br />On GitHub, the HTML representation is unable to render, please try loading this page with nbviewer.org.</b></div><div class=\"sk-container\" hidden><div class=\"sk-item\"><div class=\"sk-estimator sk-toggleable\"><input class=\"sk-toggleable__control sk-hidden--visually\" id=\"sk-estimator-id-1\" type=\"checkbox\" checked><label for=\"sk-estimator-id-1\" class=\"sk-toggleable__label sk-toggleable__label-arrow\">DecisionTreeClassifier</label><div class=\"sk-toggleable__content\"><pre>DecisionTreeClassifier(random_state=42)</pre></div></div></div></div></div>"
      ],
      "text/plain": [
       "DecisionTreeClassifier(random_state=42)"
      ]
     },
     "execution_count": 24,
     "metadata": {},
     "output_type": "execute_result"
    }
   ],
   "source": [
    "clf.fit(X_train[['Age','AnnualSalary']], y_train)"
   ]
  },
  {
   "cell_type": "code",
   "execution_count": 26,
   "id": "cc2ba498-ab36-469f-9030-66827b93fa91",
   "metadata": {},
   "outputs": [
    {
     "data": {
      "text/plain": [
       "0.9925"
      ]
     },
     "execution_count": 26,
     "metadata": {},
     "output_type": "execute_result"
    }
   ],
   "source": [
    "clf.score(X_train[['Age','AnnualSalary']], y_train)"
   ]
  },
  {
   "cell_type": "code",
   "execution_count": 27,
   "id": "e9d98b45-043f-4523-a030-e02bb9e73b20",
   "metadata": {},
   "outputs": [
    {
     "data": {
      "text/plain": [
       "0.905"
      ]
     },
     "execution_count": 27,
     "metadata": {},
     "output_type": "execute_result"
    }
   ],
   "source": [
    "clf.score(X_test[['Age','AnnualSalary']], y_test)"
   ]
  },
  {
   "cell_type": "markdown",
   "id": "8835cd1c-6aad-4cf3-8248-9917a8c85d4b",
   "metadata": {},
   "source": [
    "## Coffee break until 10:40am\n",
    "- notes so far in the chat\n",
    "- in the ModelSelection notebook covered up to \"Different Folds\"\n",
    "\n",
    "Steps:\n",
    "1) create a variable to keep track of how you're cutting the data\n",
    "2) in the cross_val_score write cv=variable "
   ]
  },
  {
   "cell_type": "code",
   "execution_count": 70,
   "id": "2a0c0ec1-0e59-4727-9995-708911b061b2",
   "metadata": {},
   "outputs": [],
   "source": [
    "cvCut = StratifiedKFold(n_splits=5)"
   ]
  },
  {
   "cell_type": "code",
   "execution_count": 71,
   "id": "140e4573-b779-4b50-90a6-4eb49ebe71d9",
   "metadata": {},
   "outputs": [
    {
     "data": {
      "text/plain": [
       "(array([0.80625, 0.90625, 0.85625, 0.85   , 0.84375]),\n",
       " 0.8524999999999998,\n",
       " 0.03201562118716424,\n",
       " 0.80625)"
      ]
     },
     "execution_count": 71,
     "metadata": {},
     "output_type": "execute_result"
    }
   ],
   "source": [
    "scores = cross_val_score(clf, X_train[['Age','AnnualSalary']], y_train, cv=cvCut, scoring='accuracy')\n",
    "scores, scores.mean(), scores.std(), scores.min()"
   ]
  },
  {
   "cell_type": "markdown",
   "id": "09420867-b56e-452a-a2d5-0544640783c1",
   "metadata": {
    "jp-MarkdownHeadingCollapsed": true
   },
   "source": [
    "### Below are codes to pull out the rows from the cuts to see the proportions"
   ]
  },
  {
   "cell_type": "code",
   "execution_count": 68,
   "id": "c7434eb2-3c0f-46c1-88a1-69b0ff5f8e17",
   "metadata": {},
   "outputs": [],
   "source": [
    "cvCut = StratifiedKFold(n_splits=2)"
   ]
  },
  {
   "cell_type": "code",
   "execution_count": 69,
   "id": "64fff8f6-dbe1-44ae-ab6f-9d1cec74a86b",
   "metadata": {},
   "outputs": [],
   "source": [
    "train, test = cvCut.split(df[['Age']],df['Purchased'])"
   ]
  },
  {
   "cell_type": "code",
   "execution_count": 44,
   "id": "ef14e873-92b7-445e-857d-cb05ef0e3cd3",
   "metadata": {},
   "outputs": [],
   "source": [
    "table1 = df.iloc[train[0]]\n",
    "table2 = df.iloc[train[1]]"
   ]
  },
  {
   "cell_type": "code",
   "execution_count": 57,
   "id": "e28c83a5-4552-46b3-84c5-5026b463e45d",
   "metadata": {},
   "outputs": [],
   "source": [
    "# table2"
   ]
  },
  {
   "cell_type": "code",
   "execution_count": 47,
   "id": "31e521ed-f868-43bb-8ec7-aa2109651045",
   "metadata": {},
   "outputs": [
    {
     "data": {
      "text/plain": [
       "Purchased\n",
       "0    299\n",
       "1    201\n",
       "Name: count, dtype: int64"
      ]
     },
     "execution_count": 47,
     "metadata": {},
     "output_type": "execute_result"
    }
   ],
   "source": [
    "table1['Purchased'].value_counts()"
   ]
  },
  {
   "cell_type": "code",
   "execution_count": 48,
   "id": "32a44ae1-d335-4b99-824e-378b99f68df8",
   "metadata": {},
   "outputs": [
    {
     "data": {
      "text/plain": [
       "Purchased\n",
       "0    299\n",
       "1    201\n",
       "Name: count, dtype: int64"
      ]
     },
     "execution_count": 48,
     "metadata": {},
     "output_type": "execute_result"
    }
   ],
   "source": [
    "table2['Purchased'].value_counts()"
   ]
  },
  {
   "cell_type": "code",
   "execution_count": 51,
   "id": "7015d3c0-603d-4556-a53d-bc8fd39070a2",
   "metadata": {},
   "outputs": [
    {
     "data": {
      "text/plain": [
       "Purchased\n",
       "0    598\n",
       "1    402\n",
       "Name: count, dtype: int64"
      ]
     },
     "execution_count": 51,
     "metadata": {},
     "output_type": "execute_result"
    }
   ],
   "source": [
    "df['Purchased'].value_counts()"
   ]
  },
  {
   "cell_type": "code",
   "execution_count": 52,
   "id": "823edbe6-c154-43d0-8bb0-d18ed5bb18c9",
   "metadata": {
    "scrolled": true
   },
   "outputs": [
    {
     "data": {
      "text/plain": [
       "(0.598, 0.598)"
      ]
     },
     "execution_count": 52,
     "metadata": {},
     "output_type": "execute_result"
    }
   ],
   "source": [
    "299/500, 598/1000"
   ]
  },
  {
   "cell_type": "markdown",
   "id": "ad6209ed-5882-4c90-af14-3f337664ccf0",
   "metadata": {},
   "source": [
    "## Group K Fold\n",
    "- we're going to create some \"groups\" of ages in our data set and test the models on those groups\n",
    "- each train/test split will ommit one of the groups"
   ]
  },
  {
   "cell_type": "code",
   "execution_count": 73,
   "id": "4de96575-a28d-4327-a472-8637b0bccc15",
   "metadata": {},
   "outputs": [
    {
     "data": {
      "text/plain": [
       "array([18., 27., 36., 45., 54., 63.])"
      ]
     },
     "execution_count": 73,
     "metadata": {},
     "output_type": "execute_result"
    }
   ],
   "source": [
    "np.linspace(18,63,6)"
   ]
  },
  {
   "cell_type": "code",
   "execution_count": 74,
   "id": "f18deb66-57c7-4f01-aa2f-64770fd6073a",
   "metadata": {},
   "outputs": [],
   "source": [
    "df['AgeGroup'] = 0\n",
    "df.loc[(df['Age'] >= 18) & (df['Age'] <=26), 'AgeGroup'] = 1\n",
    "df.loc[(df['Age'] >= 27) & (df['Age'] <=35), 'AgeGroup'] = 2\n",
    "df.loc[(df['Age'] >= 36) & (df['Age'] <=44), 'AgeGroup'] = 3\n",
    "df.loc[(df['Age'] >= 45) & (df['Age'] <=53), 'AgeGroup'] = 4\n",
    "df.loc[(df['Age'] >= 54) & (df['Age'] <=62), 'AgeGroup'] = 5\n",
    "df.loc[(df['Age'] >= 63), 'AgeGroup'] = 6\n",
    "\n",
    "# df.head(10)"
   ]
  },
  {
   "cell_type": "code",
   "execution_count": 75,
   "id": "7146305e-2fad-4a31-af74-86cadc596500",
   "metadata": {},
   "outputs": [
    {
     "data": {
      "text/plain": [
       "AgeGroup\n",
       "3    340\n",
       "4    213\n",
       "2    210\n",
       "5    116\n",
       "1    114\n",
       "6      7\n",
       "Name: count, dtype: int64"
      ]
     },
     "execution_count": 75,
     "metadata": {},
     "output_type": "execute_result"
    }
   ],
   "source": [
    "df['AgeGroup'].value_counts()"
   ]
  },
  {
   "cell_type": "code",
   "execution_count": 78,
   "id": "b99ffd73-8a7a-4b52-b339-60c5c060effd",
   "metadata": {},
   "outputs": [
    {
     "data": {
      "text/html": [
       "<div>\n",
       "<style scoped>\n",
       "    .dataframe tbody tr th:only-of-type {\n",
       "        vertical-align: middle;\n",
       "    }\n",
       "\n",
       "    .dataframe tbody tr th {\n",
       "        vertical-align: top;\n",
       "    }\n",
       "\n",
       "    .dataframe thead tr th {\n",
       "        text-align: left;\n",
       "    }\n",
       "\n",
       "    .dataframe thead tr:last-of-type th {\n",
       "        text-align: right;\n",
       "    }\n",
       "</style>\n",
       "<table border=\"1\" class=\"dataframe\">\n",
       "  <thead>\n",
       "    <tr>\n",
       "      <th></th>\n",
       "      <th colspan=\"4\" halign=\"left\">Age</th>\n",
       "      <th colspan=\"4\" halign=\"left\">AnnualSalary</th>\n",
       "    </tr>\n",
       "    <tr>\n",
       "      <th></th>\n",
       "      <th>min</th>\n",
       "      <th>max</th>\n",
       "      <th>mean</th>\n",
       "      <th>count</th>\n",
       "      <th>min</th>\n",
       "      <th>max</th>\n",
       "      <th>mean</th>\n",
       "      <th>count</th>\n",
       "    </tr>\n",
       "    <tr>\n",
       "      <th>AgeGroup</th>\n",
       "      <th></th>\n",
       "      <th></th>\n",
       "      <th></th>\n",
       "      <th></th>\n",
       "      <th></th>\n",
       "      <th></th>\n",
       "      <th></th>\n",
       "      <th></th>\n",
       "    </tr>\n",
       "  </thead>\n",
       "  <tbody>\n",
       "    <tr>\n",
       "      <th>1</th>\n",
       "      <td>18</td>\n",
       "      <td>26</td>\n",
       "      <td>22.692982</td>\n",
       "      <td>114</td>\n",
       "      <td>15000</td>\n",
       "      <td>118000</td>\n",
       "      <td>55767.543860</td>\n",
       "      <td>114</td>\n",
       "    </tr>\n",
       "    <tr>\n",
       "      <th>2</th>\n",
       "      <td>27</td>\n",
       "      <td>35</td>\n",
       "      <td>30.985714</td>\n",
       "      <td>210</td>\n",
       "      <td>15000</td>\n",
       "      <td>151500</td>\n",
       "      <td>69254.761905</td>\n",
       "      <td>210</td>\n",
       "    </tr>\n",
       "    <tr>\n",
       "      <th>3</th>\n",
       "      <td>36</td>\n",
       "      <td>44</td>\n",
       "      <td>39.655882</td>\n",
       "      <td>340</td>\n",
       "      <td>21500</td>\n",
       "      <td>150500</td>\n",
       "      <td>77164.705882</td>\n",
       "      <td>340</td>\n",
       "    </tr>\n",
       "    <tr>\n",
       "      <th>4</th>\n",
       "      <td>45</td>\n",
       "      <td>53</td>\n",
       "      <td>48.657277</td>\n",
       "      <td>213</td>\n",
       "      <td>20000</td>\n",
       "      <td>151500</td>\n",
       "      <td>73244.131455</td>\n",
       "      <td>213</td>\n",
       "    </tr>\n",
       "    <tr>\n",
       "      <th>5</th>\n",
       "      <td>54</td>\n",
       "      <td>62</td>\n",
       "      <td>57.965517</td>\n",
       "      <td>116</td>\n",
       "      <td>23000</td>\n",
       "      <td>152500</td>\n",
       "      <td>81693.965517</td>\n",
       "      <td>116</td>\n",
       "    </tr>\n",
       "    <tr>\n",
       "      <th>6</th>\n",
       "      <td>63</td>\n",
       "      <td>63</td>\n",
       "      <td>63.000000</td>\n",
       "      <td>7</td>\n",
       "      <td>36500</td>\n",
       "      <td>110500</td>\n",
       "      <td>67785.714286</td>\n",
       "      <td>7</td>\n",
       "    </tr>\n",
       "  </tbody>\n",
       "</table>\n",
       "</div>"
      ],
      "text/plain": [
       "         Age                      AnnualSalary                            \n",
       "         min max       mean count          min     max          mean count\n",
       "AgeGroup                                                                  \n",
       "1         18  26  22.692982   114        15000  118000  55767.543860   114\n",
       "2         27  35  30.985714   210        15000  151500  69254.761905   210\n",
       "3         36  44  39.655882   340        21500  150500  77164.705882   340\n",
       "4         45  53  48.657277   213        20000  151500  73244.131455   213\n",
       "5         54  62  57.965517   116        23000  152500  81693.965517   116\n",
       "6         63  63  63.000000     7        36500  110500  67785.714286     7"
      ]
     },
     "execution_count": 78,
     "metadata": {},
     "output_type": "execute_result"
    }
   ],
   "source": [
    "df.groupby(['AgeGroup'])[['Age','AnnualSalary']].agg(['min','max','mean','count'])"
   ]
  },
  {
   "cell_type": "code",
   "execution_count": 79,
   "id": "3429d446-9152-4942-a7bd-3d4e5bf4cc9f",
   "metadata": {},
   "outputs": [
    {
     "data": {
      "text/plain": [
       "<Axes: xlabel='AgeGroup', ylabel='AnnualSalary'>"
      ]
     },
     "execution_count": 79,
     "metadata": {},
     "output_type": "execute_result"
    },
    {
     "data": {
      "image/png": "[encoded data removed]",
      "text/plain": [
       "<Figure size 640x480 with 1 Axes>"
      ]
     },
     "metadata": {},
     "output_type": "display_data"
    }
   ],
   "source": [
    "sns.violinplot(data=df, x='AgeGroup', y='AnnualSalary')"
   ]
  },
  {
   "cell_type": "code",
   "execution_count": 80,
   "id": "c4458cca-a01c-4b7c-b397-0d30fc331881",
   "metadata": {},
   "outputs": [
    {
     "data": {
      "text/plain": [
       "<Axes: xlabel='AgeGroup', ylabel='AnnualSalary'>"
      ]
     },
     "execution_count": 80,
     "metadata": {},
     "output_type": "execute_result"
    },
    {
     "data": {
      "image/png": "[encoded data removed]",
      "text/plain": [
       "<Figure size 640x480 with 1 Axes>"
      ]
     },
     "metadata": {},
     "output_type": "display_data"
    }
   ],
   "source": [
    "sns.violinplot(data=df, x='AgeGroup', y='AnnualSalary',hue='Purchased')"
   ]
  },
  {
   "cell_type": "code",
   "execution_count": 82,
   "id": "98294ac3-935b-4004-8fc0-4a31d809ae9a",
   "metadata": {},
   "outputs": [
    {
     "data": {
      "text/plain": [
       "<generator object _BaseKFold.split at 0x0000026B41F18EB0>"
      ]
     },
     "execution_count": 82,
     "metadata": {},
     "output_type": "execute_result"
    }
   ],
   "source": [
    "cv = GroupKFold(n_splits=6)  # Must me less than or equal to number of groups\n",
    "cv.split(df[['AnnualSalary', 'Female']], df['Purchased'], groups=df['AgeGroup'])"
   ]
  },
  {
   "cell_type": "code",
   "execution_count": null,
   "id": "3fe9ea76-664f-44b1-b3f7-f598c21f818d",
   "metadata": {},
   "outputs": [],
   "source": []
  },
  {
   "cell_type": "code",
   "execution_count": null,
   "id": "e874b858-339e-4bd0-89a2-016ff7faaad1",
   "metadata": {},
   "outputs": [],
   "source": []
  },
  {
   "cell_type": "code",
   "execution_count": 87,
   "id": "4567f424-a397-4dac-ac87-c3c4b968863c",
   "metadata": {},
   "outputs": [
    {
     "name": "stdout",
     "output_type": "stream",
     "text": [
      "Hold-out group: [3]\n",
      "Score: 0.8529411764705882\n",
      "              precision    recall  f1-score   support\n",
      "\n",
      "           0       0.88      0.92      0.90       248\n",
      "           1       0.76      0.66      0.71        92\n",
      "\n",
      "    accuracy                           0.85       340\n",
      "   macro avg       0.82      0.79      0.81       340\n",
      "weighted avg       0.85      0.85      0.85       340\n",
      "\n",
      "----------------------------------------------------------------------------------------------------\n",
      "Hold-out group: [4]\n",
      "Score: 0.6056338028169014\n",
      "              precision    recall  f1-score   support\n",
      "\n",
      "           0       0.33      0.68      0.45        50\n",
      "           1       0.86      0.58      0.69       163\n",
      "\n",
      "    accuracy                           0.61       213\n",
      "   macro avg       0.59      0.63      0.57       213\n",
      "weighted avg       0.73      0.61      0.64       213\n",
      "\n",
      "----------------------------------------------------------------------------------------------------\n",
      "Hold-out group: [2]\n",
      "Score: 0.8952380952380953\n",
      "              precision    recall  f1-score   support\n",
      "\n",
      "           0       0.92      0.97      0.94       179\n",
      "           1       0.71      0.48      0.58        31\n",
      "\n",
      "    accuracy                           0.90       210\n",
      "   macro avg       0.81      0.73      0.76       210\n",
      "weighted avg       0.89      0.90      0.89       210\n",
      "\n",
      "----------------------------------------------------------------------------------------------------\n",
      "Hold-out group: [5]\n",
      "Score: 0.7844827586206896\n",
      "              precision    recall  f1-score   support\n",
      "\n",
      "           0       0.00      0.00      0.00         7\n",
      "           1       0.93      0.83      0.88       109\n",
      "\n",
      "    accuracy                           0.78       116\n",
      "   macro avg       0.46      0.42      0.44       116\n",
      "weighted avg       0.87      0.78      0.83       116\n",
      "\n",
      "----------------------------------------------------------------------------------------------------\n",
      "Hold-out group: [1]\n",
      "Score: 1.0\n",
      "              precision    recall  f1-score   support\n",
      "\n",
      "           0       1.00      1.00      1.00       114\n",
      "\n",
      "    accuracy                           1.00       114\n",
      "   macro avg       1.00      1.00      1.00       114\n",
      "weighted avg       1.00      1.00      1.00       114\n",
      "\n",
      "----------------------------------------------------------------------------------------------------\n",
      "Hold-out group: [6]\n",
      "Score: 1.0\n",
      "              precision    recall  f1-score   support\n",
      "\n",
      "           1       1.00      1.00      1.00         7\n",
      "\n",
      "    accuracy                           1.00         7\n",
      "   macro avg       1.00      1.00      1.00         7\n",
      "weighted avg       1.00      1.00      1.00         7\n",
      "\n",
      "----------------------------------------------------------------------------------------------------\n"
     ]
    }
   ],
   "source": [
    "predictCols = [1, 2, 4]  #cols 1, 2, 4 = Age, AnnualSalary, Female\n",
    "# predictCols = [2, 4] #try running with Age removed\n",
    "targetCol = [3] #col 3 = Purchased\n",
    "scores = [] #to keep the scores of all trained models\n",
    "\n",
    "for train_index, test_index in cv.split(df[['AnnualSalary', 'Female']], df['Purchased'], groups=df['AgeGroup']):\n",
    "    print(\"Hold-out group:\",df.iloc[test_index, -1].unique()) #print out which test group was hold out\n",
    "    \n",
    "    clf.fit(df.iloc[train_index, predictCols], df.iloc[train_index, targetCol])\n",
    "    score = clf.score(df.iloc[test_index, predictCols], df.iloc[test_index, targetCol])\n",
    "    scores.append(score)\n",
    "    print(\"Score:\",score)\n",
    "    print(classification_report(df.iloc[test_index, targetCol], clf.predict(df.iloc[test_index, predictCols])))\n",
    "    print(\"-\" * 100)"
   ]
  },
  {
   "cell_type": "markdown",
   "id": "554d05e3-cfdd-4dcb-ad04-1808efdd950b",
   "metadata": {},
   "source": [
    "## Working Session until 11:40am\n",
    "- ModelSelectionAssignment"
   ]
  },
  {
   "cell_type": "markdown",
   "id": "69f8d380-d7db-4cba-94a7-b89c363c4254",
   "metadata": {},
   "source": [
    "## Wraup-UP\n",
    "- https://www.surveymonkey.com/r/VFQYMNL\n",
    "- github: https://github.com/TheMarqueeGroup/JPM_DS_Oct2023\n",
    "    - all answer keys will be on here\n",
    "    - will also send a consolidated zip file\n",
    "    - github will stay up for 2 more weeks\n",
    "- extra resources:\n",
    "    - https://scikit-learn.org/stable/index.html\n",
    "    - https://bogdan.streamlit.app/"
   ]
  },
  {
   "cell_type": "markdown",
   "id": "7af12b42-b5c3-4ed2-b00e-7896e757e062",
   "metadata": {},
   "source": [
    "### Takeup"
   ]
  },
  {
   "cell_type": "code",
   "execution_count": 90,
   "id": "e6f5a9cb-eefd-4ae5-b225-e8bfcd758bbb",
   "metadata": {},
   "outputs": [],
   "source": [
    "from sklearn.linear_model import LogisticRegression\n",
    "from sklearn.preprocessing import StandardScaler\n",
    "df['AnnualSalaryStd'] = StandardScaler().fit_transform(df['AnnualSalary'].values.reshape(-1,1))"
   ]
  },
  {
   "cell_type": "code",
   "execution_count": 91,
   "id": "960305bf-27a4-4b17-a991-b492a3523b8f",
   "metadata": {},
   "outputs": [],
   "source": [
    "clf_Log = LogisticRegression(random_state=42)\n",
    "clf_DT = tree.DecisionTreeClassifier(random_state=42)\n",
    "\n",
    "Xcols = ['Age','AnnualSalary','AnnualSalaryStd','Female','AgeGroup']\n",
    "#initial split of data\n",
    "X_train, X_test, y_train, y_test = train_test_split(df[Xcols], df['Purchased'], test_size=0.2, random_state=0)"
   ]
  },
  {
   "cell_type": "markdown",
   "id": "2e5ec89b-af31-4236-86bc-45ac864467a7",
   "metadata": {},
   "source": [
    "### Comparison between Stratified KFold Decision Tree and Logistic Regression"
   ]
  },
  {
   "cell_type": "code",
   "execution_count": 92,
   "id": "be6c6b63-860f-4653-82b7-2a9d7fd1160d",
   "metadata": {},
   "outputs": [],
   "source": [
    "cols_Log = ['Age','AnnualSalaryStd']\n",
    "cols_DT = ['Age','AnnualSalary']\n",
    "scores_Log = cross_val_score(clf_Log, X_train[cols_Log], y_train, cv=5)\n",
    "scores_DT = cross_val_score(clf_DT, X_train[cols_DT], y_train, cv=5)"
   ]
  },
  {
   "cell_type": "code",
   "execution_count": 97,
   "id": "fbb1c620-c862-463e-a762-4f403d40bfaf",
   "metadata": {},
   "outputs": [
    {
     "data": {
      "text/html": [
       "<div>\n",
       "<style scoped>\n",
       "    .dataframe tbody tr th:only-of-type {\n",
       "        vertical-align: middle;\n",
       "    }\n",
       "\n",
       "    .dataframe tbody tr th {\n",
       "        vertical-align: top;\n",
       "    }\n",
       "\n",
       "    .dataframe thead th {\n",
       "        text-align: right;\n",
       "    }\n",
       "</style>\n",
       "<table border=\"1\" class=\"dataframe\">\n",
       "  <thead>\n",
       "    <tr style=\"text-align: right;\">\n",
       "      <th></th>\n",
       "      <th>Scores</th>\n",
       "      <th>Mean</th>\n",
       "      <th>STD</th>\n",
       "      <th>Min</th>\n",
       "    </tr>\n",
       "  </thead>\n",
       "  <tbody>\n",
       "    <tr>\n",
       "      <th>Logistic</th>\n",
       "      <td>[0.8125, 0.83125, 0.79375, 0.84375, 0.79375]</td>\n",
       "      <td>0.815</td>\n",
       "      <td>0.02</td>\n",
       "      <td>0.79375</td>\n",
       "    </tr>\n",
       "    <tr>\n",
       "      <th>DT</th>\n",
       "      <td>[0.80625, 0.90625, 0.85625, 0.85, 0.84375]</td>\n",
       "      <td>0.8525</td>\n",
       "      <td>0.032016</td>\n",
       "      <td>0.80625</td>\n",
       "    </tr>\n",
       "  </tbody>\n",
       "</table>\n",
       "</div>"
      ],
      "text/plain": [
       "                                                Scores    Mean       STD  \\\n",
       "Logistic  [0.8125, 0.83125, 0.79375, 0.84375, 0.79375]   0.815      0.02   \n",
       "DT          [0.80625, 0.90625, 0.85625, 0.85, 0.84375]  0.8525  0.032016   \n",
       "\n",
       "              Min  \n",
       "Logistic  0.79375  \n",
       "DT        0.80625  "
      ]
     },
     "execution_count": 97,
     "metadata": {},
     "output_type": "execute_result"
    }
   ],
   "source": [
    "info = {'Logistic':{'Scores':scores_Log,'Mean':scores_Log.mean(),'STD':scores_Log.std(),'Min':scores_Log.min()},\n",
    "        'DT':{'Scores':scores_DT,'Mean':scores_DT.mean(),'STD':scores_DT.std(),'Min':scores_DT.min()}}\n",
    "info_table = pd.DataFrame(info)\n",
    "info_table.T"
   ]
  },
  {
   "cell_type": "code",
   "execution_count": 105,
   "id": "f769373b-4d60-4a53-9419-7c2fd7668f30",
   "metadata": {},
   "outputs": [
    {
     "data": {
      "text/html": [
       "<style>#sk-container-id-2 {color: black;}#sk-container-id-2 pre{padding: 0;}#sk-container-id-2 div.sk-toggleable {background-color: white;}#sk-container-id-2 label.sk-toggleable__label {cursor: pointer;display: block;width: 100%;margin-bottom: 0;padding: 0.3em;box-sizing: border-box;text-align: center;}#sk-container-id-2 label.sk-toggleable__label-arrow:before {content: \"▸\";float: left;margin-right: 0.25em;color: #696969;}#sk-container-id-2 label.sk-toggleable__label-arrow:hover:before {color: black;}#sk-container-id-2 div.sk-estimator:hover label.sk-toggleable__label-arrow:before {color: black;}#sk-container-id-2 div.sk-toggleable__content {max-height: 0;max-width: 0;overflow: hidden;text-align: left;background-color: #f0f8ff;}#sk-container-id-2 div.sk-toggleable__content pre {margin: 0.2em;color: black;border-radius: 0.25em;background-color: #f0f8ff;}#sk-container-id-2 input.sk-toggleable__control:checked~div.sk-toggleable__content {max-height: 200px;max-width: 100%;overflow: auto;}#sk-container-id-2 input.sk-toggleable__control:checked~label.sk-toggleable__label-arrow:before {content: \"▾\";}#sk-container-id-2 div.sk-estimator input.sk-toggleable__control:checked~label.sk-toggleable__label {background-color: #d4ebff;}#sk-container-id-2 div.sk-label input.sk-toggleable__control:checked~label.sk-toggleable__label {background-color: #d4ebff;}#sk-container-id-2 input.sk-hidden--visually {border: 0;clip: rect(1px 1px 1px 1px);clip: rect(1px, 1px, 1px, 1px);height: 1px;margin: -1px;overflow: hidden;padding: 0;position: absolute;width: 1px;}#sk-container-id-2 div.sk-estimator {font-family: monospace;background-color: #f0f8ff;border: 1px dotted black;border-radius: 0.25em;box-sizing: border-box;margin-bottom: 0.5em;}#sk-container-id-2 div.sk-estimator:hover {background-color: #d4ebff;}#sk-container-id-2 div.sk-parallel-item::after {content: \"\";width: 100%;border-bottom: 1px solid gray;flex-grow: 1;}#sk-container-id-2 div.sk-label:hover label.sk-toggleable__label {background-color: #d4ebff;}#sk-container-id-2 div.sk-serial::before {content: \"\";position: absolute;border-left: 1px solid gray;box-sizing: border-box;top: 0;bottom: 0;left: 50%;z-index: 0;}#sk-container-id-2 div.sk-serial {display: flex;flex-direction: column;align-items: center;background-color: white;padding-right: 0.2em;padding-left: 0.2em;position: relative;}#sk-container-id-2 div.sk-item {position: relative;z-index: 1;}#sk-container-id-2 div.sk-parallel {display: flex;align-items: stretch;justify-content: center;background-color: white;position: relative;}#sk-container-id-2 div.sk-item::before, #sk-container-id-2 div.sk-parallel-item::before {content: \"\";position: absolute;border-left: 1px solid gray;box-sizing: border-box;top: 0;bottom: 0;left: 50%;z-index: -1;}#sk-container-id-2 div.sk-parallel-item {display: flex;flex-direction: column;z-index: 1;position: relative;background-color: white;}#sk-container-id-2 div.sk-parallel-item:first-child::after {align-self: flex-end;width: 50%;}#sk-container-id-2 div.sk-parallel-item:last-child::after {align-self: flex-start;width: 50%;}#sk-container-id-2 div.sk-parallel-item:only-child::after {width: 0;}#sk-container-id-2 div.sk-dashed-wrapped {border: 1px dashed gray;margin: 0 0.4em 0.5em 0.4em;box-sizing: border-box;padding-bottom: 0.4em;background-color: white;}#sk-container-id-2 div.sk-label label {font-family: monospace;font-weight: bold;display: inline-block;line-height: 1.2em;}#sk-container-id-2 div.sk-label-container {text-align: center;}#sk-container-id-2 div.sk-container {/* jupyter's `normalize.less` sets `[hidden] { display: none; }` but bootstrap.min.css set `[hidden] { display: none !important; }` so we also need the `!important` here to be able to override the default hidden behavior on the sphinx rendered scikit-learn.org. See: https://github.com/scikit-learn/scikit-learn/issues/21755 */display: inline-block !important;position: relative;}#sk-container-id-2 div.sk-text-repr-fallback {display: none;}</style><div id=\"sk-container-id-2\" class=\"sk-top-container\"><div class=\"sk-text-repr-fallback\"><pre>DecisionTreeClassifier(random_state=42)</pre><b>In a Jupyter environment, please rerun this cell to show the HTML representation or trust the notebook. <br />On GitHub, the HTML representation is unable to render, please try loading this page with nbviewer.org.</b></div><div class=\"sk-container\" hidden><div class=\"sk-item\"><div class=\"sk-estimator sk-toggleable\"><input class=\"sk-toggleable__control sk-hidden--visually\" id=\"sk-estimator-id-2\" type=\"checkbox\" checked><label for=\"sk-estimator-id-2\" class=\"sk-toggleable__label sk-toggleable__label-arrow\">DecisionTreeClassifier</label><div class=\"sk-toggleable__content\"><pre>DecisionTreeClassifier(random_state=42)</pre></div></div></div></div></div>"
      ],
      "text/plain": [
       "DecisionTreeClassifier(random_state=42)"
      ]
     },
     "execution_count": 105,
     "metadata": {},
     "output_type": "execute_result"
    }
   ],
   "source": [
    "clf_DT.fit(X_train, y_train)"
   ]
  },
  {
   "cell_type": "code",
   "execution_count": 107,
   "id": "aa51b856-c8b0-4e19-a70f-acc1d5ee124c",
   "metadata": {},
   "outputs": [
    {
     "data": {
      "text/plain": [
       "0.905"
      ]
     },
     "execution_count": 107,
     "metadata": {},
     "output_type": "execute_result"
    }
   ],
   "source": [
    "clf_DT.score(X_test,y_test)"
   ]
  }
 ],
 "metadata": {
  "kernelspec": {
   "display_name": "Python 3 (ipykernel)",
   "language": "python",
   "name": "python3"
  },
  "language_info": {
   "codemirror_mode": {
    "name": "ipython",
    "version": 3
   },
   "file_extension": ".py",
   "mimetype": "text/x-python",
   "name": "python",
   "nbconvert_exporter": "python",
   "pygments_lexer": "ipython3",
   "version": "3.8.10"
  }
 },
 "nbformat": 4,
 "nbformat_minor": 5
}
