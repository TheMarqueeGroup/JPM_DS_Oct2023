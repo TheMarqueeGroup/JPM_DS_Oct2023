{
 "cells": [
  {
   "cell_type": "code",
   "execution_count": 1,
   "metadata": {},
   "outputs": [],
   "source": [
    "import os\n",
    "import numpy as np\n",
    "import pandas as pd\n",
    "import matplotlib.pyplot as plt\n",
    "import seaborn as sns\n",
    "from sklearn.linear_model import LogisticRegression\n",
    "from sklearn.preprocessing import StandardScaler\n",
    "from sklearn.metrics import classification_report\n",
    "from sklearn.metrics import roc_curve, auc\n",
    "from sklearn.model_selection import cross_val_score\n",
    "from sklearn.model_selection import train_test_split\n",
    "from sklearn.model_selection import (KFold, StratifiedKFold, GroupKFold)\n",
    "# print(os.getcwd())"
   ]
  },
  {
   "cell_type": "markdown",
   "metadata": {},
   "source": [
    "# Model Selection Assignment"
   ]
  },
  {
   "cell_type": "markdown",
   "metadata": {},
   "source": [
    "## Car Purchase Dataset Loading"
   ]
  },
  {
   "cell_type": "code",
   "execution_count": 2,
   "metadata": {},
   "outputs": [
    {
     "data": {
      "text/html": [
       "<div>\n",
       "<style scoped>\n",
       "    .dataframe tbody tr th:only-of-type {\n",
       "        vertical-align: middle;\n",
       "    }\n",
       "\n",
       "    .dataframe tbody tr th {\n",
       "        vertical-align: top;\n",
       "    }\n",
       "\n",
       "    .dataframe thead th {\n",
       "        text-align: right;\n",
       "    }\n",
       "</style>\n",
       "<table border=\"1\" class=\"dataframe\">\n",
       "  <thead>\n",
       "    <tr style=\"text-align: right;\">\n",
       "      <th></th>\n",
       "      <th>Gender</th>\n",
       "      <th>Age</th>\n",
       "      <th>AnnualSalary</th>\n",
       "      <th>Purchased</th>\n",
       "      <th>AnnualSalaryStd</th>\n",
       "      <th>Female</th>\n",
       "      <th>Male</th>\n",
       "      <th>AgeGroup</th>\n",
       "    </tr>\n",
       "    <tr>\n",
       "      <th>User ID</th>\n",
       "      <th></th>\n",
       "      <th></th>\n",
       "      <th></th>\n",
       "      <th></th>\n",
       "      <th></th>\n",
       "      <th></th>\n",
       "      <th></th>\n",
       "      <th></th>\n",
       "    </tr>\n",
       "  </thead>\n",
       "  <tbody>\n",
       "    <tr>\n",
       "      <th>385</th>\n",
       "      <td>Male</td>\n",
       "      <td>35</td>\n",
       "      <td>20000</td>\n",
       "      <td>0</td>\n",
       "      <td>-1.528498</td>\n",
       "      <td>0</td>\n",
       "      <td>1</td>\n",
       "      <td>2</td>\n",
       "    </tr>\n",
       "    <tr>\n",
       "      <th>681</th>\n",
       "      <td>Male</td>\n",
       "      <td>40</td>\n",
       "      <td>43500</td>\n",
       "      <td>0</td>\n",
       "      <td>-0.846767</td>\n",
       "      <td>0</td>\n",
       "      <td>1</td>\n",
       "      <td>3</td>\n",
       "    </tr>\n",
       "    <tr>\n",
       "      <th>353</th>\n",
       "      <td>Male</td>\n",
       "      <td>49</td>\n",
       "      <td>74000</td>\n",
       "      <td>0</td>\n",
       "      <td>0.038032</td>\n",
       "      <td>0</td>\n",
       "      <td>1</td>\n",
       "      <td>4</td>\n",
       "    </tr>\n",
       "    <tr>\n",
       "      <th>895</th>\n",
       "      <td>Male</td>\n",
       "      <td>40</td>\n",
       "      <td>107500</td>\n",
       "      <td>1</td>\n",
       "      <td>1.009861</td>\n",
       "      <td>0</td>\n",
       "      <td>1</td>\n",
       "      <td>3</td>\n",
       "    </tr>\n",
       "    <tr>\n",
       "      <th>661</th>\n",
       "      <td>Male</td>\n",
       "      <td>25</td>\n",
       "      <td>79000</td>\n",
       "      <td>0</td>\n",
       "      <td>0.183081</td>\n",
       "      <td>0</td>\n",
       "      <td>1</td>\n",
       "      <td>1</td>\n",
       "    </tr>\n",
       "  </tbody>\n",
       "</table>\n",
       "</div>"
      ],
      "text/plain": [
       "        Gender  Age  AnnualSalary  Purchased  AnnualSalaryStd  Female  Male  \\\n",
       "User ID                                                                       \n",
       "385       Male   35         20000          0        -1.528498       0     1   \n",
       "681       Male   40         43500          0        -0.846767       0     1   \n",
       "353       Male   49         74000          0         0.038032       0     1   \n",
       "895       Male   40        107500          1         1.009861       0     1   \n",
       "661       Male   25         79000          0         0.183081       0     1   \n",
       "\n",
       "         AgeGroup  \n",
       "User ID            \n",
       "385             2  \n",
       "681             3  \n",
       "353             4  \n",
       "895             3  \n",
       "661             1  "
      ]
     },
     "execution_count": 2,
     "metadata": {},
     "output_type": "execute_result"
    }
   ],
   "source": [
    "df = pd.read_csv(\"ExData\\car_data.csv\")\n",
    "df.set_index([\"User ID\"], inplace=True)\n",
    "df['AnnualSalaryStd'] = StandardScaler().fit_transform(df['AnnualSalary'].values.reshape(-1,1))\n",
    "df = pd.concat([df, pd.get_dummies(df['Gender'], dtype=int)], axis=1)\n",
    "df['AgeGroup'] = 0\n",
    "df.loc[(df['Age'] >= 18) & (df['Age'] <=26), 'AgeGroup'] = 1\n",
    "df.loc[(df['Age'] >= 27) & (df['Age'] <=35), 'AgeGroup'] = 2\n",
    "df.loc[(df['Age'] >= 36) & (df['Age'] <=44), 'AgeGroup'] = 3\n",
    "df.loc[(df['Age'] >= 45) & (df['Age'] <=53), 'AgeGroup'] = 4\n",
    "df.loc[(df['Age'] >= 54) & (df['Age'] <=62), 'AgeGroup'] = 5\n",
    "df.loc[(df['Age'] >= 63), 'AgeGroup'] = 6\n",
    "df.head()\n",
    "df.head()"
   ]
  },
  {
   "cell_type": "markdown",
   "metadata": {},
   "source": [
    "## Question 1 Cross-validation\n",
    "\n",
    "Perform cross validation using Logistic Regression on the Car Purchase dataset.\n",
    "1. Create a classifier named `clf`\n",
    "2. Create a variable named `scores` to store the output from the `cross_val_score()` function. Use five folds.\n",
    "   1. Use different combinations of Age, AnnualSalaryStd and Female as the dependant variables to find the best model."
   ]
  },
  {
   "cell_type": "code",
   "execution_count": 29,
   "metadata": {},
   "outputs": [
    {
     "name": "stdout",
     "output_type": "stream",
     "text": [
      "[0.82 0.82 0.89 0.84 0.79]\n"
     ]
    },
    {
     "data": {
      "text/plain": [
       "(0.79, 0.8320000000000001, 0.89)"
      ]
     },
     "execution_count": 29,
     "metadata": {},
     "output_type": "execute_result"
    }
   ],
   "source": [
    "clf = LogisticRegression(random_state=42)\n",
    "scores = cross_val_score(clf, df[['Age', 'AnnualSalaryStd', 'Female']], df['Purchased'], cv=5)\n",
    "print(scores)\n",
    "np.min(scores), np.mean(scores), np.max(scores)"
   ]
  },
  {
   "cell_type": "code",
   "execution_count": 22,
   "metadata": {},
   "outputs": [
    {
     "name": "stdout",
     "output_type": "stream",
     "text": [
      "[0.8   0.825 0.89  0.835 0.795]\n"
     ]
    },
    {
     "data": {
      "text/plain": [
       "(0.795, 0.8290000000000001, 0.89)"
      ]
     },
     "execution_count": 22,
     "metadata": {},
     "output_type": "execute_result"
    }
   ],
   "source": [
    "clf = LogisticRegression(random_state=42)\n",
    "scores = cross_val_score(clf, df[['Age', 'AnnualSalaryStd']], df['Purchased'], cv=5)\n",
    "print(scores)\n",
    "np.min(scores), np.mean(scores), np.max(scores)"
   ]
  },
  {
   "cell_type": "code",
   "execution_count": 23,
   "metadata": {},
   "outputs": [
    {
     "name": "stdout",
     "output_type": "stream",
     "text": [
      "[0.755 0.755 0.78  0.76  0.795]\n"
     ]
    },
    {
     "data": {
      "text/plain": [
       "(0.755, 0.7689999999999999, 0.795)"
      ]
     },
     "execution_count": 23,
     "metadata": {},
     "output_type": "execute_result"
    }
   ],
   "source": [
    "clf = LogisticRegression(random_state=42)\n",
    "scores = cross_val_score(clf, df[['AnnualSalaryStd', 'Female']], df['Purchased'], cv=5)\n",
    "print(scores)\n",
    "np.min(scores), np.mean(scores), np.max(scores)"
   ]
  },
  {
   "cell_type": "code",
   "execution_count": 24,
   "metadata": {},
   "outputs": [
    {
     "name": "stdout",
     "output_type": "stream",
     "text": [
      "[0.795 0.825 0.85  0.79  0.805]\n"
     ]
    },
    {
     "data": {
      "text/plain": [
       "(0.79, 0.8130000000000001, 0.85)"
      ]
     },
     "execution_count": 24,
     "metadata": {},
     "output_type": "execute_result"
    }
   ],
   "source": [
    "clf = LogisticRegression(random_state=42)\n",
    "scores = cross_val_score(clf, df[['Age', 'Female']], df['Purchased'], cv=5)\n",
    "print(scores)\n",
    "np.min(scores), np.mean(scores), np.max(scores)"
   ]
  },
  {
   "cell_type": "code",
   "execution_count": 7,
   "metadata": {},
   "outputs": [
    {
     "name": "stdout",
     "output_type": "stream",
     "text": [
      "[0.795 0.825 0.83  0.79  0.815]\n"
     ]
    },
    {
     "data": {
      "text/plain": [
       "(0.79, 0.8109999999999999, 0.83)"
      ]
     },
     "execution_count": 7,
     "metadata": {},
     "output_type": "execute_result"
    }
   ],
   "source": [
    "clf = LogisticRegression(random_state=42)\n",
    "scores = cross_val_score(clf, df[['Age']], df['Purchased'], cv=5)\n",
    "print(scores)\n",
    "np.min(scores), np.mean(scores), np.max(scores)"
   ]
  },
  {
   "cell_type": "code",
   "execution_count": 25,
   "metadata": {},
   "outputs": [
    {
     "name": "stdout",
     "output_type": "stream",
     "text": [
      "[0.755 0.76  0.78  0.765 0.795]\n"
     ]
    },
    {
     "data": {
      "text/plain": [
       "(0.755, 0.771, 0.795)"
      ]
     },
     "execution_count": 25,
     "metadata": {},
     "output_type": "execute_result"
    }
   ],
   "source": [
    "clf = LogisticRegression(random_state=42)\n",
    "scores = cross_val_score(clf, df[['AnnualSalaryStd']], df['Purchased'], cv=5)\n",
    "print(scores)\n",
    "np.min(scores), np.mean(scores), np.max(scores)"
   ]
  },
  {
   "cell_type": "markdown",
   "metadata": {},
   "source": [
    "## Question 2 Cross-validation\n",
    "\n",
    "Perform cross validation using Logistic Regression on the Car Purchase dataset with holdout data.\n",
    "1. Use `train_test_split()` to generate X_train, X_test, y_train, y_test DataFrames\n",
    "2. Create a variable named `scores` to store the output from the `cross_val_score()` function. Use five folds.\n",
    "   1. Use different combinations of Age, AnnualSalaryStd and Female as the dependant variables to find the best model.\n",
    "3. Fit the classifier `clf` using the best performing variable combination.\n",
    "4. How well does the model work on unseen data?"
   ]
  },
  {
   "cell_type": "code",
   "execution_count": 42,
   "metadata": {},
   "outputs": [
    {
     "name": "stdout",
     "output_type": "stream",
     "text": [
      "[0.85    0.80625 0.83125 0.83125 0.825  ]\n"
     ]
    },
    {
     "data": {
      "text/plain": [
       "(0.80625, 0.82875, 0.85)"
      ]
     },
     "execution_count": 42,
     "metadata": {},
     "output_type": "execute_result"
    }
   ],
   "source": [
    "X_train, X_test, y_train, y_test = train_test_split(df[['Age', 'AnnualSalaryStd', 'Female']], df['Purchased'], test_size=0.2, random_state=42)\n",
    "clf = LogisticRegression(random_state=42)\n",
    "scores = cross_val_score(clf, X_train, y_train, cv=5)\n",
    "print(scores)\n",
    "np.min(scores), np.mean(scores), np.max(scores)"
   ]
  },
  {
   "cell_type": "code",
   "execution_count": 43,
   "metadata": {},
   "outputs": [
    {
     "name": "stdout",
     "output_type": "stream",
     "text": [
      "[0.85625 0.79375 0.825   0.825   0.83125]\n"
     ]
    },
    {
     "data": {
      "text/plain": [
       "(0.79375, 0.8262499999999999, 0.85625)"
      ]
     },
     "execution_count": 43,
     "metadata": {},
     "output_type": "execute_result"
    }
   ],
   "source": [
    "X_train, X_test, y_train, y_test = train_test_split(df[['Age', 'AnnualSalaryStd']], df['Purchased'], test_size=0.2, random_state=42)\n",
    "clf = LogisticRegression(random_state=42)\n",
    "scores = cross_val_score(clf, X_train, y_train, cv=5)\n",
    "print(scores)\n",
    "np.min(scores), np.mean(scores), np.max(scores)"
   ]
  },
  {
   "cell_type": "code",
   "execution_count": 44,
   "metadata": {},
   "outputs": [
    {
     "name": "stdout",
     "output_type": "stream",
     "text": [
      "All Train Data:\n",
      "               precision    recall  f1-score   support\n",
      "\n",
      "           0       0.83      0.89      0.86       486\n",
      "           1       0.81      0.73      0.77       314\n",
      "\n",
      "    accuracy                           0.83       800\n",
      "   macro avg       0.82      0.81      0.82       800\n",
      "weighted avg       0.83      0.83      0.83       800\n",
      "\n",
      "Test Data:\n",
      "               precision    recall  f1-score   support\n",
      "\n",
      "           0       0.79      0.93      0.86       112\n",
      "           1       0.88      0.69      0.78        88\n",
      "\n",
      "    accuracy                           0.82       200\n",
      "   macro avg       0.84      0.81      0.82       200\n",
      "weighted avg       0.83      0.82      0.82       200\n",
      "\n"
     ]
    }
   ],
   "source": [
    "clf.fit(X_train, y_train)\n",
    "print(\"All Train Data:\\n\", classification_report(y_train, clf.predict(X_train)))\n",
    "print(\"Test Data:\\n\", classification_report(y_test, clf.predict(X_test)))"
   ]
  },
  {
   "cell_type": "markdown",
   "metadata": {},
   "source": [
    "## Question 3 - Grouped KFolds\n",
    "\n",
    "Perform GroupKFold with 6 splits, use cross_val_score instead of a loop.\n",
    "1. Create a variable named `cv` for a `GroupKFold()` generator with 6 splits.\n",
    "2. Create a logistic regression classifier `clf`.\n",
    "3. Use `cross_val_score()` to score the classifier with `AnnualSalaryStd` and `Female`.\n",
    "   1. Pass the group column to the `groups=` argument.\n",
    "   2. Pass the generator to the argument `cv`. \n"
   ]
  },
  {
   "cell_type": "code",
   "execution_count": 45,
   "metadata": {},
   "outputs": [],
   "source": [
    "cv = GroupKFold(n_splits=6)  # Must me less than or equal to number of groups"
   ]
  },
  {
   "cell_type": "code",
   "execution_count": 46,
   "metadata": {},
   "outputs": [
    {
     "data": {
      "text/plain": [
       "array([0.83823529, 0.42253521, 0.78571429, 0.4137931 , 0.83333333,\n",
       "       0.28571429])"
      ]
     },
     "execution_count": 46,
     "metadata": {},
     "output_type": "execute_result"
    }
   ],
   "source": [
    "clf = LogisticRegression(random_state=42)\n",
    "scores = cross_val_score(clf, df[['AnnualSalaryStd', 'Female']], df['Purchased'], groups=df['AgeGroup'], cv=cv)\n",
    "scores"
   ]
  }
 ],
 "metadata": {
  "kernelspec": {
   "display_name": "Python 3 (ipykernel)",
   "language": "python",
   "name": "python3"
  },
  "language_info": {
   "codemirror_mode": {
    "name": "ipython",
    "version": 3
   },
   "file_extension": ".py",
   "mimetype": "text/x-python",
   "name": "python",
   "nbconvert_exporter": "python",
   "pygments_lexer": "ipython3",
   "version": "3.8.10"
  },
  "vscode": {
   "interpreter": {
    "hash": "7f0e6e3dd7cd600e55c5ffd536499114b824917fafae0f4a734146118d179b9a"
   }
  }
 },
 "nbformat": 4,
 "nbformat_minor": 2
}
