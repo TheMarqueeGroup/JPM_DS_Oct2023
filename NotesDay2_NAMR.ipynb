{
 "cells": [
  {
   "cell_type": "markdown",
   "id": "c3aedd0d-684a-4b30-b15e-80d01a29acb5",
   "metadata": {},
   "source": [
    "# Day 2 - Data Science Essentils Program\n",
    "\n",
    "Agenda:\n",
    "- Wrapping up pandas examples\n",
    "    - pivot tables\n",
    "    - advanced data cleaning and calcs\n",
    "- Visualizations with pandas, matplotlib, seaborn, plotly\n",
    "- Linear regressions"
   ]
  },
  {
   "cell_type": "markdown",
   "id": "2bf3649a-e0f7-48de-ace2-57c8f524b34a",
   "metadata": {},
   "source": [
    "## Import Packages and Data"
   ]
  },
  {
   "cell_type": "code",
   "execution_count": 6,
   "id": "c9fdc9e0-8335-4bb9-98c4-f13a8d11f360",
   "metadata": {},
   "outputs": [],
   "source": [
    "import pandas as pd\n",
    "finData = pd.read_excel(\"ExData/Data Manipulation Worksheet.xlsx\", sheet_name=1)"
   ]
  },
  {
   "cell_type": "code",
   "execution_count": null,
   "id": "ae53a484-11aa-486b-bea9-8f86470729ed",
   "metadata": {},
   "outputs": [],
   "source": []
  },
  {
   "cell_type": "markdown",
   "id": "081730c9-1c3f-4b44-a65a-0db5e344a7a7",
   "metadata": {},
   "source": [
    "**Pivot Tables**\n",
    "- groupby allows summary of categories on the \"side\" (rows or index)\n",
    "- pivot_table you can summarize at top as well (columns)"
   ]
  },
  {
   "cell_type": "code",
   "execution_count": 9,
   "id": "74ece12a-0d84-45c6-862d-ea686e7c801b",
   "metadata": {},
   "outputs": [],
   "source": [
    "pivot = pd.pivot_table(finData, values='SIZE', index=['INDUSTRY'], columns=['TYPE'],aggfunc=['sum','count'])\n",
    "# pivot"
   ]
  },
  {
   "cell_type": "code",
   "execution_count": 10,
   "id": "c820b5bf-fee0-4bb3-9bc1-3f19bdab844f",
   "metadata": {},
   "outputs": [],
   "source": [
    "pivot.to_excel('Output/pivot demo.xlsx')"
   ]
  },
  {
   "cell_type": "markdown",
   "id": "f74b2f2e-e844-41cb-b30c-e002c02f433d",
   "metadata": {},
   "source": [
    "## Advanced Pandas Functions\n",
    "- calculations and data cleaning with `.apply()`\n",
    "- when importing data check:\n",
    "    - is there a better col to use as the index? \n",
    "    - dates should be datetime\n",
    "    - numbers should be float or int:  `.astype(int)` or `pd.to_numeric()`\n",
    "    - are there any missing values: `.dropna()` or `.fillna()`"
   ]
  },
  {
   "cell_type": "code",
   "execution_count": 12,
   "id": "e9dd8e7d-3ce2-4a3f-9c4f-e29b4be498c2",
   "metadata": {},
   "outputs": [
    {
     "name": "stdout",
     "output_type": "stream",
     "text": [
      "<class 'pandas.core.frame.DataFrame'>\n",
      "RangeIndex: 100 entries, 0 to 99\n",
      "Data columns (total 10 columns):\n",
      " #   Column             Non-Null Count  Dtype  \n",
      "---  ------             --------------  -----  \n",
      " 0   Company            100 non-null    object \n",
      " 1   Symbol             100 non-null    object \n",
      " 2   Industry           100 non-null    object \n",
      " 3   Offer Date         100 non-null    object \n",
      " 4   Shares (millions)  100 non-null    float64\n",
      " 5   Offer Price        100 non-null    object \n",
      " 6   1st Day Close      100 non-null    object \n",
      " 7   Current Price      100 non-null    object \n",
      " 8   Return             100 non-null    object \n",
      " 9   SCOOP Rating       100 non-null    object \n",
      "dtypes: float64(1), object(9)\n",
      "memory usage: 7.9+ KB\n"
     ]
    },
    {
     "data": {
      "text/html": [
       "<div>\n",
       "<style scoped>\n",
       "    .dataframe tbody tr th:only-of-type {\n",
       "        vertical-align: middle;\n",
       "    }\n",
       "\n",
       "    .dataframe tbody tr th {\n",
       "        vertical-align: top;\n",
       "    }\n",
       "\n",
       "    .dataframe thead th {\n",
       "        text-align: right;\n",
       "    }\n",
       "</style>\n",
       "<table border=\"1\" class=\"dataframe\">\n",
       "  <thead>\n",
       "    <tr style=\"text-align: right;\">\n",
       "      <th></th>\n",
       "      <th>Company</th>\n",
       "      <th>Symbol</th>\n",
       "      <th>Industry</th>\n",
       "      <th>Offer Date</th>\n",
       "      <th>Shares (millions)</th>\n",
       "      <th>Offer Price</th>\n",
       "      <th>1st Day Close</th>\n",
       "      <th>Current Price</th>\n",
       "      <th>Return</th>\n",
       "      <th>SCOOP Rating</th>\n",
       "    </tr>\n",
       "  </thead>\n",
       "  <tbody>\n",
       "    <tr>\n",
       "      <th>0</th>\n",
       "      <td>Metals Acquisition Corp</td>\n",
       "      <td>MTAL.U</td>\n",
       "      <td>Blank Check</td>\n",
       "      <td>7/29/2021</td>\n",
       "      <td>25.0</td>\n",
       "      <td>$10.00</td>\n",
       "      <td>$0.00</td>\n",
       "      <td>$0.00</td>\n",
       "      <td>0.00%</td>\n",
       "      <td>S/O</td>\n",
       "    </tr>\n",
       "    <tr>\n",
       "      <th>1</th>\n",
       "      <td>Nuvalent, Inc.</td>\n",
       "      <td>NUVL</td>\n",
       "      <td>Health Care</td>\n",
       "      <td>7/29/2021</td>\n",
       "      <td>9.8</td>\n",
       "      <td>$17.00</td>\n",
       "      <td>$0.00</td>\n",
       "      <td>$0.00</td>\n",
       "      <td>0.00%</td>\n",
       "      <td>S/O</td>\n",
       "    </tr>\n",
       "    <tr>\n",
       "      <th>2</th>\n",
       "      <td>Rallybio Corp.</td>\n",
       "      <td>RLYB</td>\n",
       "      <td>Health Care</td>\n",
       "      <td>7/29/2021</td>\n",
       "      <td>6.2</td>\n",
       "      <td>$13.00</td>\n",
       "      <td>$0.00</td>\n",
       "      <td>$0.00</td>\n",
       "      <td>0.00%</td>\n",
       "      <td>S/O</td>\n",
       "    </tr>\n",
       "    <tr>\n",
       "      <th>3</th>\n",
       "      <td>Software Acquisition Group Inc. III</td>\n",
       "      <td>SWAGU</td>\n",
       "      <td>Blank Check</td>\n",
       "      <td>7/29/2021</td>\n",
       "      <td>20.0</td>\n",
       "      <td>$10.00</td>\n",
       "      <td>$0.00</td>\n",
       "      <td>$0.00</td>\n",
       "      <td>0.00%</td>\n",
       "      <td>S/O</td>\n",
       "    </tr>\n",
       "    <tr>\n",
       "      <th>4</th>\n",
       "      <td>Traeger Inc. (TGPX Holdings I LLC)</td>\n",
       "      <td>COOK</td>\n",
       "      <td>Industrials</td>\n",
       "      <td>7/29/2021</td>\n",
       "      <td>23.5</td>\n",
       "      <td>$18.00</td>\n",
       "      <td>$0.00</td>\n",
       "      <td>$0.00</td>\n",
       "      <td>0.00%</td>\n",
       "      <td>S/O</td>\n",
       "    </tr>\n",
       "  </tbody>\n",
       "</table>\n",
       "</div>"
      ],
      "text/plain": [
       "                               Company  Symbol     Industry Offer Date  \\\n",
       "0              Metals Acquisition Corp  MTAL.U  Blank Check  7/29/2021   \n",
       "1                       Nuvalent, Inc.    NUVL  Health Care  7/29/2021   \n",
       "2                       Rallybio Corp.    RLYB  Health Care  7/29/2021   \n",
       "3  Software Acquisition Group Inc. III   SWAGU  Blank Check  7/29/2021   \n",
       "4   Traeger Inc. (TGPX Holdings I LLC)    COOK  Industrials  7/29/2021   \n",
       "\n",
       "   Shares (millions) Offer Price 1st Day Close Current Price Return  \\\n",
       "0               25.0      $10.00         $0.00         $0.00  0.00%   \n",
       "1                9.8      $17.00         $0.00         $0.00  0.00%   \n",
       "2                6.2      $13.00         $0.00         $0.00  0.00%   \n",
       "3               20.0      $10.00         $0.00         $0.00  0.00%   \n",
       "4               23.5      $18.00         $0.00         $0.00  0.00%   \n",
       "\n",
       "  SCOOP Rating  \n",
       "0          S/O  \n",
       "1          S/O  \n",
       "2          S/O  \n",
       "3          S/O  \n",
       "4          S/O  "
      ]
     },
     "execution_count": 12,
     "metadata": {},
     "output_type": "execute_result"
    }
   ],
   "source": [
    "ipoData = pd.read_csv('ExData/iposTable.csv')\n",
    "ipoData.info()\n",
    "ipoData.head()"
   ]
  },
  {
   "cell_type": "code",
   "execution_count": 23,
   "id": "4fb648bd-e67a-4253-8182-f59f837fc1d7",
   "metadata": {},
   "outputs": [
    {
     "name": "stdout",
     "output_type": "stream",
     "text": [
      "<class 'pandas.core.frame.DataFrame'>\n",
      "Index: 100 entries, MTAL.U to LYEL\n",
      "Data columns (total 9 columns):\n",
      " #   Column             Non-Null Count  Dtype         \n",
      "---  ------             --------------  -----         \n",
      " 0   Company            100 non-null    object        \n",
      " 1   Industry           100 non-null    object        \n",
      " 2   Offer Date         100 non-null    datetime64[ns]\n",
      " 3   Shares (millions)  100 non-null    float64       \n",
      " 4   Offer Price        100 non-null    object        \n",
      " 5   1st Day Close      100 non-null    object        \n",
      " 6   Current Price      100 non-null    object        \n",
      " 7   Return             100 non-null    object        \n",
      " 8   SCOOP Rating       100 non-null    object        \n",
      "dtypes: datetime64[ns](1), float64(1), object(7)\n",
      "memory usage: 7.8+ KB\n"
     ]
    }
   ],
   "source": [
    "ipoData = pd.read_csv('ExData/iposTable.csv', index_col=['Symbol'], parse_dates=['Offer Date'] )\n",
    "ipoData.info()"
   ]
  },
  {
   "cell_type": "code",
   "execution_count": 17,
   "id": "98d61fd8-fc3a-4d9d-9af2-f4f7d6e31ed6",
   "metadata": {},
   "outputs": [
    {
     "data": {
      "text/plain": [
       "'$17.00'"
      ]
     },
     "execution_count": 17,
     "metadata": {},
     "output_type": "execute_result"
    }
   ],
   "source": [
    "# ipoData.loc['NUVL']['Offer Price']"
   ]
  },
  {
   "cell_type": "code",
   "execution_count": 20,
   "id": "f7f5d6a1-41af-4c1f-b20a-f4849732bb1f",
   "metadata": {},
   "outputs": [
    {
     "data": {
      "text/plain": [
       "1700.5"
      ]
     },
     "execution_count": 20,
     "metadata": {},
     "output_type": "execute_result"
    }
   ],
   "source": [
    "text = \"$1,700.50\"\n",
    "float(text.strip(\"$\").replace(\",\",\"\"))"
   ]
  },
  {
   "cell_type": "code",
   "execution_count": 24,
   "id": "65c92c48-7a54-41d7-8da8-2c166003755d",
   "metadata": {},
   "outputs": [],
   "source": [
    "ipoData['Offer Price'] = ipoData['Offer Price'].str.strip(\"$\").str.replace(\",\",\"\").astype(float)\n",
    "ipoData['Current Price'] = pd.to_numeric(ipoData['Current Price'].str.strip(\"$\").str.replace(\",\",\"\"))"
   ]
  },
  {
   "cell_type": "code",
   "execution_count": 31,
   "id": "16d41550-5e71-47a0-9d93-5ea84af95412",
   "metadata": {},
   "outputs": [
    {
     "data": {
      "text/plain": [
       "array([100.1, 500.2, 600.5])"
      ]
     },
     "execution_count": 31,
     "metadata": {},
     "output_type": "execute_result"
    }
   ],
   "source": [
    "# ipoData.info()\n",
    "# float([\"100\", \"500\",\"600\"])\n",
    "pd.to_numeric(\"500\")\n",
    "pd.to_numeric([\"100\", \"500\",\"600\"]) #array of int\n",
    "pd.to_numeric([\"100.100\", \"500.2\",\"600.50\"]) #floats now"
   ]
  },
  {
   "cell_type": "code",
   "execution_count": 34,
   "id": "54103daf-af94-4118-bd58-c22df68d48d5",
   "metadata": {},
   "outputs": [],
   "source": [
    "ipoData = pd.read_csv('ExData/iposTable.csv', index_col=['Symbol'], parse_dates=['Offer Date'] )\n",
    "colsToClean = ['Offer Price', 'Current Price', '1st Day Close']\n",
    "for col in colsToClean:\n",
    "    ipoData[col] = ipoData[col].str.strip(\"$\").str.replace(\",\",\"\").astype(float)\n",
    "\n",
    "ipoData['Return'] = ipoData['Return'].str.strip(\"%\").str.replace(\",\",\"\").astype(float) / 100"
   ]
  },
  {
   "cell_type": "markdown",
   "id": "4b496f4c-c1f2-4381-8563-247254d74d7c",
   "metadata": {},
   "source": [
    "## Cleaning with .apply()\n",
    "- first create a function that cleans up one piece of text\n",
    "- then use .apply() to apply that function on the entire column"
   ]
  },
  {
   "cell_type": "code",
   "execution_count": 37,
   "id": "41e7a103-a315-499f-96bb-044eb565ceb6",
   "metadata": {},
   "outputs": [
    {
     "data": {
      "text/html": [
       "<div>\n",
       "<style scoped>\n",
       "    .dataframe tbody tr th:only-of-type {\n",
       "        vertical-align: middle;\n",
       "    }\n",
       "\n",
       "    .dataframe tbody tr th {\n",
       "        vertical-align: top;\n",
       "    }\n",
       "\n",
       "    .dataframe thead th {\n",
       "        text-align: right;\n",
       "    }\n",
       "</style>\n",
       "<table border=\"1\" class=\"dataframe\">\n",
       "  <thead>\n",
       "    <tr style=\"text-align: right;\">\n",
       "      <th></th>\n",
       "      <th>Symbol</th>\n",
       "      <th>Market Cap (intraday)</th>\n",
       "      <th>Enterprise Value</th>\n",
       "      <th>Trailing P/E</th>\n",
       "      <th>Forward P/E</th>\n",
       "      <th>PEG Ratio (5 yr expected)</th>\n",
       "      <th>Price/Sales (ttm)</th>\n",
       "      <th>Price/Book (mrq)</th>\n",
       "      <th>Enterprise Value/Revenue</th>\n",
       "      <th>Enterprise Value/EBITDA</th>\n",
       "      <th>Beta</th>\n",
       "    </tr>\n",
       "  </thead>\n",
       "  <tbody>\n",
       "    <tr>\n",
       "      <th>0</th>\n",
       "      <td>A</td>\n",
       "      <td>45.29B</td>\n",
       "      <td>46.9B</td>\n",
       "      <td>49.92</td>\n",
       "      <td>32.38</td>\n",
       "      <td>3.33</td>\n",
       "      <td>7.79</td>\n",
       "      <td>9.42</td>\n",
       "      <td>8.06</td>\n",
       "      <td>30.30</td>\n",
       "      <td>1.01</td>\n",
       "    </tr>\n",
       "    <tr>\n",
       "      <th>1</th>\n",
       "      <td>AAL</td>\n",
       "      <td>12.84B</td>\n",
       "      <td>47.76B</td>\n",
       "      <td>NaN</td>\n",
       "      <td>-286.00</td>\n",
       "      <td>0.05</td>\n",
       "      <td>1.00</td>\n",
       "      <td>NaN</td>\n",
       "      <td>3.72</td>\n",
       "      <td>-4.44</td>\n",
       "      <td>1.85</td>\n",
       "    </tr>\n",
       "    <tr>\n",
       "      <th>2</th>\n",
       "      <td>AAP</td>\n",
       "      <td>13.67B</td>\n",
       "      <td>16.37B</td>\n",
       "      <td>22.45</td>\n",
       "      <td>17.10</td>\n",
       "      <td>1.55</td>\n",
       "      <td>1.27</td>\n",
       "      <td>3.87</td>\n",
       "      <td>1.52</td>\n",
       "      <td>13.20</td>\n",
       "      <td>1.38</td>\n",
       "    </tr>\n",
       "    <tr>\n",
       "      <th>3</th>\n",
       "      <td>AAPL</td>\n",
       "      <td>2.43T</td>\n",
       "      <td>2.4T</td>\n",
       "      <td>32.74</td>\n",
       "      <td>27.27</td>\n",
       "      <td>1.53</td>\n",
       "      <td>7.47</td>\n",
       "      <td>35.13</td>\n",
       "      <td>7.38</td>\n",
       "      <td>24.05</td>\n",
       "      <td>1.21</td>\n",
       "    </tr>\n",
       "    <tr>\n",
       "      <th>4</th>\n",
       "      <td>ABBV</td>\n",
       "      <td>208.26B</td>\n",
       "      <td>280.2B</td>\n",
       "      <td>40.48</td>\n",
       "      <td>8.44</td>\n",
       "      <td>2.04</td>\n",
       "      <td>4.15</td>\n",
       "      <td>15.18</td>\n",
       "      <td>5.58</td>\n",
       "      <td>11.42</td>\n",
       "      <td>0.80</td>\n",
       "    </tr>\n",
       "  </tbody>\n",
       "</table>\n",
       "</div>"
      ],
      "text/plain": [
       "  Symbol Market Cap (intraday) Enterprise Value  Trailing P/E  Forward P/E  \\\n",
       "0      A                45.29B            46.9B         49.92        32.38   \n",
       "1    AAL                12.84B           47.76B           NaN      -286.00   \n",
       "2    AAP                13.67B           16.37B         22.45        17.10   \n",
       "3   AAPL                 2.43T             2.4T         32.74        27.27   \n",
       "4   ABBV               208.26B           280.2B         40.48         8.44   \n",
       "\n",
       "   PEG Ratio (5 yr expected)  Price/Sales (ttm)  Price/Book (mrq)  \\\n",
       "0                       3.33               7.79              9.42   \n",
       "1                       0.05               1.00               NaN   \n",
       "2                       1.55               1.27              3.87   \n",
       "3                       1.53               7.47             35.13   \n",
       "4                       2.04               4.15             15.18   \n",
       "\n",
       "   Enterprise Value/Revenue  Enterprise Value/EBITDA  Beta  \n",
       "0                      8.06                    30.30  1.01  \n",
       "1                      3.72                    -4.44  1.85  \n",
       "2                      1.52                    13.20  1.38  \n",
       "3                      7.38                    24.05  1.21  \n",
       "4                      5.58                    11.42  0.80  "
      ]
     },
     "execution_count": 37,
     "metadata": {},
     "output_type": "execute_result"
    }
   ],
   "source": [
    "sp500_data = pd.read_csv(\"ExData/sp500_Cos_ValMetrics.csv\")\n",
    "sp500_data.head()\n",
    "    #market cap and EV need to clean up\n",
    "    #B --> billion, T --> trillion"
   ]
  },
  {
   "cell_type": "code",
   "execution_count": 38,
   "id": "05acc725-a0c6-4d58-876d-16ff2597864c",
   "metadata": {},
   "outputs": [],
   "source": [
    "def cleanFinNumber(x):\n",
    "    if 'B' in x: #keeps it as billions\n",
    "        clean = float(x.strip(\"B\").replace(\",\", \"\"))\n",
    "    elif 'T' in x: #converts trillions to billions\n",
    "        clean = float(x.strip(\"T\").replace(\",\", \"\")) * 1000\n",
    "    else: #in case some numbers don't have B and T, assume it's million --> convert billions\n",
    "        clean = float(x.replace(',','')) / 1000\n",
    "    return clean"
   ]
  },
  {
   "cell_type": "code",
   "execution_count": 47,
   "id": "b4ef9e80-a7f0-418a-bb83-5c22fafce463",
   "metadata": {},
   "outputs": [
    {
     "data": {
      "text/plain": [
       "500500.0"
      ]
     },
     "execution_count": 47,
     "metadata": {},
     "output_type": "execute_result"
    }
   ],
   "source": [
    "#testing the function on one piece of text\n",
    "cleanFinNumber(\"500.5T\")"
   ]
  },
  {
   "cell_type": "code",
   "execution_count": 48,
   "id": "6b587700-9714-4b77-99ca-8380a23ee767",
   "metadata": {},
   "outputs": [],
   "source": [
    "sp500_data['EV (bn)'] = sp500_data['Enterprise Value'].apply(cleanFinNumber)\n",
    "sp500_data['Mkt Cap (bn)'] = sp500_data['Market Cap (intraday)'].apply(cleanFinNumber)"
   ]
  },
  {
   "cell_type": "code",
   "execution_count": 52,
   "id": "be51beb1-5267-4ee2-af7d-c618f20273e9",
   "metadata": {},
   "outputs": [],
   "source": [
    "#sp500_data[['EV (bn)','Enterprise Value']] #.info()"
   ]
  },
  {
   "cell_type": "markdown",
   "id": "9f340dda-469a-4d4f-9480-13ad2c1039fe",
   "metadata": {},
   "source": [
    "**.apply with more than 1 column**\n",
    "- can apply a function on multiple columns, but need to specify the axis\n",
    "    - axis = 1 --> going down, row by row\n",
    "    - axis = 0 --> going across, col by col"
   ]
  },
  {
   "cell_type": "code",
   "execution_count": 53,
   "id": "3e27be6d-10c6-4ed0-8434-468cc6275d5f",
   "metadata": {},
   "outputs": [
    {
     "data": {
      "text/plain": [
       "84.11954365079364"
      ]
     },
     "execution_count": 53,
     "metadata": {},
     "output_type": "execute_result"
    }
   ],
   "source": [
    "import numpy as np\n",
    "np.mean(sp500_data['EV (bn)'])"
   ]
  },
  {
   "cell_type": "code",
   "execution_count": 57,
   "id": "1a3e3904-1652-47e2-8f3e-8a2ecaf55f37",
   "metadata": {},
   "outputs": [
    {
     "data": {
      "text/plain": [
       "Date\n",
       "2013-09-30    1684.405029\n",
       "2013-10-01    1688.705017\n",
       "2013-10-02    1692.885010\n",
       "2013-10-03    1685.505005\n",
       "2013-10-04    1684.645019\n",
       "                 ...     \n",
       "2018-09-24    2920.600097\n",
       "2018-09-25    2918.655029\n",
       "2018-09-26    2911.474976\n",
       "2018-09-27    2912.824951\n",
       "2018-09-28    2912.005004\n",
       "Length: 1260, dtype: float64"
      ]
     },
     "execution_count": 57,
     "metadata": {},
     "output_type": "execute_result"
    }
   ],
   "source": [
    "sp500 = pd.read_csv('StockData/SP500.csv', parse_dates=['Date'], index_col=['Date'])\n",
    "sp500.apply(np.mean, axis=0) #taking average of each column\n",
    "sp500[['Close','Open']].apply(np.mean, axis=1) #average of the prices, for each date/row"
   ]
  },
  {
   "cell_type": "markdown",
   "id": "5423cfb7-46d5-4ba2-af4c-d24bb59ddab4",
   "metadata": {},
   "source": []
  }
 ],
 "metadata": {
  "kernelspec": {
   "display_name": "Python 3 (ipykernel)",
   "language": "python",
   "name": "python3"
  },
  "language_info": {
   "codemirror_mode": {
    "name": "ipython",
    "version": 3
   },
   "file_extension": ".py",
   "mimetype": "text/x-python",
   "name": "python",
   "nbconvert_exporter": "python",
   "pygments_lexer": "ipython3",
   "version": "3.8.10"
  }
 },
 "nbformat": 4,
 "nbformat_minor": 5
}
